{
 "cells": [
  {
   "cell_type": "markdown",
   "id": "30c6fc15-8784-4667-933c-2428aa889014",
   "metadata": {
    "id": "30c6fc15-8784-4667-933c-2428aa889014"
   },
   "source": [
    "# Case Study\n",
    "\n",
    "Cardiovascular disease (CVDs) atau penyakit jantung merupakan penyebab kematian nomor satu secara global dengan 17,9 juta kasus kematian setiap tahunnya. Penyakit jantung disebabkan oleh hipertensi, obesitas, dan gaya hidup yang tidak sehat. Deteksi dini penyakit jantung perlu dilakukan pada kelompok risiko tinggi agar dapat segera mendapatkan penanganan dan pencegahan. Sehingga tujuan bisnis yang ingin dicapai yaitu membentuk model prediksi penyakit jantung pada pasien berdasarkan feature-feature yang ada untuk membantu para dokter melakukan diagnosa secara tepat dan akurat. Harapannya agar penyakit jantung dapat ditangani lebih awal. Dengan demikian, diharapkan juga angka kematian akibat penyakit jantung dapat turun."
   ]
  },
  {
   "cell_type": "markdown",
   "id": "906be208-bbc7-4c32-a565-bb7d10973aa5",
   "metadata": {
    "id": "906be208-bbc7-4c32-a565-bb7d10973aa5"
   },
   "source": [
    "# Problem Statement\n",
    "\n",
    "Masalah yang ingin kita selesaikan adalah melakukan diagnosa pasien penderita penyakit jantung secara tepat dan akurat. Perlu dilakukan analisis faktor-faktor penyebab dan gejala penyakit jantung pada pasien."
   ]
  },
  {
   "cell_type": "markdown",
   "id": "664ead0b-2bc9-4eb0-85ea-7ac051bdc4c4",
   "metadata": {
    "id": "664ead0b-2bc9-4eb0-85ea-7ac051bdc4c4"
   },
   "source": [
    "# About Datasets\n",
    "\n",
    "Dataset yang digunakan adalah data Heart Disease yang diunduh dari UCI ML: https://archive.ics.uci.edu/dataset/45/heart+disease\n",
    "\n",
    "Dataset yang digunakan ini berasal dari tahun 1988 dan terdiri dari empat database: Cleveland, Hungaria, Swiss, dan Long Beach V. Bidang \"target\" mengacu pada adanya penyakit jantung pada pasien. Ini adalah bilangan bulat bernilai 0 = tidak ada penyakit dan 1 = penyakit.\n",
    "\n",
    "Dataset heart disease terdiri dari 1025 baris data dan 13 atribut + 1 target. Dataset ini memiliki 14 kolom yaitu:\n",
    "\n",
    "1. age: variabel ini merepresentasikan usia pasien yang diukur dalam tahun.\n",
    "2. sex: variabel ini merepresentasikan jenis kelamin pasien dengan nilai 1 untuk laki-laki dan nilai 0 untuk perempuan.\n",
    "3. cp (Chest pain type): variabel ini merepresentasikan jenis nyeri dada yang dirasakan oleh pasien dengan 4 nilai kategori yang mungkin: nilai 1 mengindikasikan nyeri dada tipe angina, nilai 2 mengindikasikan nyeri dada tipe nyeri tidak stabil, nilai 3 mengindikasikan nyeri dada tipe nyeri tidak stabil yang parah, dan nilai 4 mengindikasikan nyeri dada yang tidak terkait dengan masalah jantung.\n",
    "4. trestbps (Resting blood pressure): variabel ini merepresentasikan tekanan darah pasien pada saat istirahat, diukur dalam mmHg (milimeter air raksa (merkuri)).\n",
    "5. chol (Serum cholestoral): variabel ini merepresentasikan kadar kolesterol serum dalam darah pasien, diukur dalam mg/dl (miligram per desiliter).\n",
    "6. fbs (Fasting blood sugar): variabel ini merepresentasikan kadar gula darah pasien saat puasa (belum makan) dengan nilai 1 jika kadar gula darah > 120 mg/dl dan nilai 0 jika tidak.\n",
    "7. restecg (Resting electrocardiographic results): variabel ini merepresentasikan hasil elektrokardiogram pasien saat istirahat dengan 3 nilai kategori yang mungkin: nilai 0 mengindikasikan hasil normal, nilai 1 mengindikasikan adanya kelainan gelombang ST-T, dan nilai 2 mengindikasikan hipertrofi ventrikel kiri.\n",
    "8. thalach (Maximum heart rate achieved): variabel ini merepresentasikan detak jantung maksimum yang dicapai oleh pasien selama tes olahraga, diukur dalam bpm (denyut per menit).\n",
    "9. exang (Exercise induced angina): variabel ini merepresentasikan apakah pasien mengalami angina (nyeri dada) yang dipicu oleh aktivitas olahraga, dengan nilai 1 jika ya dan nilai 0 jika tidak.\n",
    "10. oldpeak: variabel ini merepresentasikan seberapa banyak ST segmen menurun atau depresi saat melakukan aktivitas fisik dibandingkan saat istirahat.\n",
    "11. slope: variabel ini merepresentasikan kemiringan segmen ST pada elektrokardiogram (EKG) selama latihan fisik maksimal dengan 3 nilai kategori.\n",
    "12. ca (Number of major vessels): variabel ini merepresentasikan jumlah pembuluh darah utama (0-3) yang terlihat pada pemeriksaan flourosopi.\n",
    "13. thal: variabel ini merepresentasikan hasil tes thalium scan dengan 3 nilai kategori yang mungkin:\n",
    " - thal 1: menunjukkan kondisi normal.\n",
    " - thal 2: menunjukkan adanya defek tetap pada thalassemia.\n",
    " - thal 3: menunjukkan adanya defek yang dapat dipulihkan pada thalassemia.\n",
    "14. target: 0 = tidak ada penyakit dan 1 = penyakit."
   ]
  },
  {
   "cell_type": "markdown",
   "id": "e8efd02a-d397-4af7-b605-73ab7421c6ab",
   "metadata": {
    "id": "e8efd02a-d397-4af7-b605-73ab7421c6ab"
   },
   "source": [
    "# Project Goals\n",
    "\n",
    "Tujuan dari Capstone adalah melakukan data preprocessing termasuk Exploratory Data Analysis untuk menggali insight dari data pasien penderita penyakit jantung hingga proses feature selection dan dimensionality reduction. Hasil akhir yang ingin dicapai yaitu mendapatkan insight data penderita penyakit jantung dan data yang siap untuk dimodelkan pada tahap selanjutnya."
   ]
  },
  {
   "cell_type": "markdown",
   "id": "6d3c768f-92a9-4041-a27f-564a8a31aaf9",
   "metadata": {
    "id": "6d3c768f-92a9-4041-a27f-564a8a31aaf9"
   },
   "source": [
    "# Metrics\n",
    "\n",
    "Tahap untuk mendukung dalam menyelesaikan problem statement yang ada dan akan digunakan untuk memantau kinerja solusi. Berikut metrics yang termasuk :\n",
    "1. Jumlah Penderita penyakit jantung\n",
    "2. Proporsi pasien pria dan wanita yang mengalami penyakit jantung\n",
    "3. Usia rata rata pasien yang terkena penyakit jantung\n",
    "4. Korelasi penyakit jantung terhadap tiap variabel yang ada pada dataset (kolestrol, tekanan darah, jenis kelamin, kadar gula darah, detak jantung maksumun selama tes latihan, dan variabel lainnya)"
   ]
  },
  {
   "cell_type": "markdown",
   "id": "683f9581-8c30-47d8-91d5-9b4d6ea2fc32",
   "metadata": {
    "id": "683f9581-8c30-47d8-91d5-9b4d6ea2fc32"
   },
   "source": [
    "# Preparation\n",
    "\n",
    "Disini kita akan menyiapkan libraries yang diperlukan dan dataset berdasarkan link: https://storage.googleapis.com/dqlab-dataset/heart_disease.csv. Dalam rangka mengetahui tentang dataset, kita akan melihat overview."
   ]
  },
  {
   "cell_type": "markdown",
   "id": "z1S1w9XJbhNi",
   "metadata": {
    "id": "z1S1w9XJbhNi"
   },
   "source": [
    "# Import Libraries"
   ]
  },
  {
   "cell_type": "code",
   "execution_count": 1,
   "id": "89620c12-9ad9-4d15-bae9-41bacf79e90f",
   "metadata": {
    "id": "89620c12-9ad9-4d15-bae9-41bacf79e90f"
   },
   "outputs": [],
   "source": [
    "import numpy as np\n",
    "import pandas as pd\n",
    "import math\n",
    "import random\n",
    "import seaborn as sns\n",
    "from scipy.stats import pearsonr, jarque_bera\n",
    "import matplotlib.pyplot as plt\n",
    "import pickle\n",
    "from sklearn.preprocessing import StandardScaler, LabelEncoder\n",
    "from sklearn.model_selection import train_test_split\n",
    "from sklearn import tree\n",
    "from sklearn.ensemble import RandomForestClassifier\n",
    "from sklearn.tree import DecisionTreeClassifier\n",
    "from sklearn.linear_model import LogisticRegression\n",
    "from sklearn.neural_network import MLPClassifier\n",
    "from sklearn.model_selection import GridSearchCV, StratifiedKFold, cross_val_score\n",
    "from sklearn.decomposition import PCA\n",
    "from sklearn.metrics import accuracy_score, confusion_matrix, ConfusionMatrixDisplay, precision_score, recall_score, classification_report, confusion_matrix, f1_score, roc_curve, roc_auc_score\n",
    "from sklearn.model_selection import cross_val_score\n",
    "\n",
    "import warnings\n",
    "warnings.filterwarnings(\"ignore\")"
   ]
  },
  {
   "cell_type": "markdown",
   "id": "c6664db4",
   "metadata": {},
   "source": [
    "# Import Dataset"
   ]
  },
  {
   "cell_type": "code",
   "execution_count": 2,
   "id": "2ccc8672-b7da-4036-ae32-de9fc4833c23",
   "metadata": {
    "colab": {
     "base_uri": "https://localhost:8080/",
     "height": 206
    },
    "id": "2ccc8672-b7da-4036-ae32-de9fc4833c23",
    "outputId": "b87b10ae-08db-43fc-dc17-b00615391dd0"
   },
   "outputs": [],
   "source": [
    "# Memuat dataset Heart Disease UCI ML\n",
    "url = \"https://storage.googleapis.com/dqlab-dataset/heart_disease.csv\"\n",
    "# column_names = [\"age\", \"sex\", \"cp\", \"trestbps\", \"chol\", \"fbs\", \"restecg\", \"thalach\", \"exang\", \"oldpeak\", \"slope\", \"ca\", \"thal\", \"target\"]\n",
    "data = pd.read_csv(url)"
   ]
  },
  {
   "cell_type": "markdown",
   "id": "dbf7d4f8",
   "metadata": {},
   "source": [
    "# Data Preprocessing"
   ]
  },
  {
   "cell_type": "markdown",
   "id": "5efb378a",
   "metadata": {},
   "source": [
    "### Data Lookup\n",
    "\n",
    "Melihat sebagian data, kolom data, ukuran data, hingga persebaran data"
   ]
  },
  {
   "cell_type": "code",
   "execution_count": 4,
   "id": "e9b4a70a",
   "metadata": {},
   "outputs": [
    {
     "data": {
      "text/html": [
       "<div>\n",
       "<style scoped>\n",
       "    .dataframe tbody tr th:only-of-type {\n",
       "        vertical-align: middle;\n",
       "    }\n",
       "\n",
       "    .dataframe tbody tr th {\n",
       "        vertical-align: top;\n",
       "    }\n",
       "\n",
       "    .dataframe thead th {\n",
       "        text-align: right;\n",
       "    }\n",
       "</style>\n",
       "<table border=\"1\" class=\"dataframe\">\n",
       "  <thead>\n",
       "    <tr style=\"text-align: right;\">\n",
       "      <th></th>\n",
       "      <th>age</th>\n",
       "      <th>sex</th>\n",
       "      <th>cp</th>\n",
       "      <th>trestbps</th>\n",
       "      <th>chol</th>\n",
       "      <th>fbs</th>\n",
       "      <th>restecg</th>\n",
       "      <th>thalach</th>\n",
       "      <th>exang</th>\n",
       "      <th>oldpeak</th>\n",
       "      <th>slope</th>\n",
       "      <th>ca</th>\n",
       "      <th>thal</th>\n",
       "      <th>target</th>\n",
       "    </tr>\n",
       "  </thead>\n",
       "  <tbody>\n",
       "    <tr>\n",
       "      <th>0</th>\n",
       "      <td>52</td>\n",
       "      <td>1</td>\n",
       "      <td>0</td>\n",
       "      <td>125</td>\n",
       "      <td>212</td>\n",
       "      <td>0</td>\n",
       "      <td>1</td>\n",
       "      <td>168</td>\n",
       "      <td>0</td>\n",
       "      <td>1.0</td>\n",
       "      <td>2</td>\n",
       "      <td>2</td>\n",
       "      <td>3</td>\n",
       "      <td>0</td>\n",
       "    </tr>\n",
       "    <tr>\n",
       "      <th>1</th>\n",
       "      <td>53</td>\n",
       "      <td>1</td>\n",
       "      <td>0</td>\n",
       "      <td>140</td>\n",
       "      <td>203</td>\n",
       "      <td>1</td>\n",
       "      <td>0</td>\n",
       "      <td>155</td>\n",
       "      <td>1</td>\n",
       "      <td>3.1</td>\n",
       "      <td>0</td>\n",
       "      <td>0</td>\n",
       "      <td>3</td>\n",
       "      <td>0</td>\n",
       "    </tr>\n",
       "    <tr>\n",
       "      <th>2</th>\n",
       "      <td>70</td>\n",
       "      <td>1</td>\n",
       "      <td>0</td>\n",
       "      <td>145</td>\n",
       "      <td>174</td>\n",
       "      <td>0</td>\n",
       "      <td>1</td>\n",
       "      <td>125</td>\n",
       "      <td>1</td>\n",
       "      <td>2.6</td>\n",
       "      <td>0</td>\n",
       "      <td>0</td>\n",
       "      <td>3</td>\n",
       "      <td>0</td>\n",
       "    </tr>\n",
       "    <tr>\n",
       "      <th>3</th>\n",
       "      <td>61</td>\n",
       "      <td>1</td>\n",
       "      <td>0</td>\n",
       "      <td>148</td>\n",
       "      <td>203</td>\n",
       "      <td>0</td>\n",
       "      <td>1</td>\n",
       "      <td>161</td>\n",
       "      <td>0</td>\n",
       "      <td>0.0</td>\n",
       "      <td>2</td>\n",
       "      <td>1</td>\n",
       "      <td>3</td>\n",
       "      <td>0</td>\n",
       "    </tr>\n",
       "    <tr>\n",
       "      <th>4</th>\n",
       "      <td>62</td>\n",
       "      <td>0</td>\n",
       "      <td>0</td>\n",
       "      <td>138</td>\n",
       "      <td>294</td>\n",
       "      <td>1</td>\n",
       "      <td>1</td>\n",
       "      <td>106</td>\n",
       "      <td>0</td>\n",
       "      <td>1.9</td>\n",
       "      <td>1</td>\n",
       "      <td>3</td>\n",
       "      <td>2</td>\n",
       "      <td>0</td>\n",
       "    </tr>\n",
       "    <tr>\n",
       "      <th>...</th>\n",
       "      <td>...</td>\n",
       "      <td>...</td>\n",
       "      <td>...</td>\n",
       "      <td>...</td>\n",
       "      <td>...</td>\n",
       "      <td>...</td>\n",
       "      <td>...</td>\n",
       "      <td>...</td>\n",
       "      <td>...</td>\n",
       "      <td>...</td>\n",
       "      <td>...</td>\n",
       "      <td>...</td>\n",
       "      <td>...</td>\n",
       "      <td>...</td>\n",
       "    </tr>\n",
       "    <tr>\n",
       "      <th>1020</th>\n",
       "      <td>59</td>\n",
       "      <td>1</td>\n",
       "      <td>1</td>\n",
       "      <td>140</td>\n",
       "      <td>221</td>\n",
       "      <td>0</td>\n",
       "      <td>1</td>\n",
       "      <td>164</td>\n",
       "      <td>1</td>\n",
       "      <td>0.0</td>\n",
       "      <td>2</td>\n",
       "      <td>0</td>\n",
       "      <td>2</td>\n",
       "      <td>1</td>\n",
       "    </tr>\n",
       "    <tr>\n",
       "      <th>1021</th>\n",
       "      <td>60</td>\n",
       "      <td>1</td>\n",
       "      <td>0</td>\n",
       "      <td>125</td>\n",
       "      <td>258</td>\n",
       "      <td>0</td>\n",
       "      <td>0</td>\n",
       "      <td>141</td>\n",
       "      <td>1</td>\n",
       "      <td>2.8</td>\n",
       "      <td>1</td>\n",
       "      <td>1</td>\n",
       "      <td>3</td>\n",
       "      <td>0</td>\n",
       "    </tr>\n",
       "    <tr>\n",
       "      <th>1022</th>\n",
       "      <td>47</td>\n",
       "      <td>1</td>\n",
       "      <td>0</td>\n",
       "      <td>110</td>\n",
       "      <td>275</td>\n",
       "      <td>0</td>\n",
       "      <td>0</td>\n",
       "      <td>118</td>\n",
       "      <td>1</td>\n",
       "      <td>1.0</td>\n",
       "      <td>1</td>\n",
       "      <td>1</td>\n",
       "      <td>2</td>\n",
       "      <td>0</td>\n",
       "    </tr>\n",
       "    <tr>\n",
       "      <th>1023</th>\n",
       "      <td>50</td>\n",
       "      <td>0</td>\n",
       "      <td>0</td>\n",
       "      <td>110</td>\n",
       "      <td>254</td>\n",
       "      <td>0</td>\n",
       "      <td>0</td>\n",
       "      <td>159</td>\n",
       "      <td>0</td>\n",
       "      <td>0.0</td>\n",
       "      <td>2</td>\n",
       "      <td>0</td>\n",
       "      <td>2</td>\n",
       "      <td>1</td>\n",
       "    </tr>\n",
       "    <tr>\n",
       "      <th>1024</th>\n",
       "      <td>54</td>\n",
       "      <td>1</td>\n",
       "      <td>0</td>\n",
       "      <td>120</td>\n",
       "      <td>188</td>\n",
       "      <td>0</td>\n",
       "      <td>1</td>\n",
       "      <td>113</td>\n",
       "      <td>0</td>\n",
       "      <td>1.4</td>\n",
       "      <td>1</td>\n",
       "      <td>1</td>\n",
       "      <td>3</td>\n",
       "      <td>0</td>\n",
       "    </tr>\n",
       "  </tbody>\n",
       "</table>\n",
       "<p>1025 rows × 14 columns</p>\n",
       "</div>"
      ],
      "text/plain": [
       "      age  sex  cp  trestbps  chol  fbs  restecg  thalach  exang  oldpeak  \\\n",
       "0      52    1   0       125   212    0        1      168      0      1.0   \n",
       "1      53    1   0       140   203    1        0      155      1      3.1   \n",
       "2      70    1   0       145   174    0        1      125      1      2.6   \n",
       "3      61    1   0       148   203    0        1      161      0      0.0   \n",
       "4      62    0   0       138   294    1        1      106      0      1.9   \n",
       "...   ...  ...  ..       ...   ...  ...      ...      ...    ...      ...   \n",
       "1020   59    1   1       140   221    0        1      164      1      0.0   \n",
       "1021   60    1   0       125   258    0        0      141      1      2.8   \n",
       "1022   47    1   0       110   275    0        0      118      1      1.0   \n",
       "1023   50    0   0       110   254    0        0      159      0      0.0   \n",
       "1024   54    1   0       120   188    0        1      113      0      1.4   \n",
       "\n",
       "      slope  ca  thal  target  \n",
       "0         2   2     3       0  \n",
       "1         0   0     3       0  \n",
       "2         0   0     3       0  \n",
       "3         2   1     3       0  \n",
       "4         1   3     2       0  \n",
       "...     ...  ..   ...     ...  \n",
       "1020      2   0     2       1  \n",
       "1021      1   1     3       0  \n",
       "1022      1   1     2       0  \n",
       "1023      2   0     2       1  \n",
       "1024      1   1     3       0  \n",
       "\n",
       "[1025 rows x 14 columns]"
      ]
     },
     "execution_count": 4,
     "metadata": {},
     "output_type": "execute_result"
    }
   ],
   "source": [
    "# Menampilkan lima baris teratas dan terbawah\n",
    "data"
   ]
  },
  {
   "cell_type": "code",
   "execution_count": 5,
   "id": "d58c84fb",
   "metadata": {
    "colab": {
     "base_uri": "https://localhost:8080/"
    },
    "id": "804f1893-bc8e-4f9f-9f17-6df370852592",
    "outputId": "224871b9-ce25-4794-f48e-49ee50c86a11"
   },
   "outputs": [
    {
     "name": "stdout",
     "output_type": "stream",
     "text": [
      "<class 'pandas.core.frame.DataFrame'>\n",
      "RangeIndex: 1025 entries, 0 to 1024\n",
      "Data columns (total 14 columns):\n",
      " #   Column    Non-Null Count  Dtype  \n",
      "---  ------    --------------  -----  \n",
      " 0   age       1025 non-null   int64  \n",
      " 1   sex       1025 non-null   int64  \n",
      " 2   cp        1025 non-null   int64  \n",
      " 3   trestbps  1025 non-null   int64  \n",
      " 4   chol      1025 non-null   int64  \n",
      " 5   fbs       1025 non-null   int64  \n",
      " 6   restecg   1025 non-null   int64  \n",
      " 7   thalach   1025 non-null   int64  \n",
      " 8   exang     1025 non-null   int64  \n",
      " 9   oldpeak   1025 non-null   float64\n",
      " 10  slope     1025 non-null   int64  \n",
      " 11  ca        1025 non-null   int64  \n",
      " 12  thal      1025 non-null   int64  \n",
      " 13  target    1025 non-null   int64  \n",
      "dtypes: float64(1), int64(13)\n",
      "memory usage: 112.2 KB\n"
     ]
    }
   ],
   "source": [
    "# Melihat informasi dari dataset\n",
    "data.info()"
   ]
  },
  {
   "cell_type": "code",
   "execution_count": 6,
   "id": "f25ea22d-4b7f-447c-ad2e-17804f6aefa1",
   "metadata": {
    "colab": {
     "base_uri": "https://localhost:8080/",
     "height": 320
    },
    "id": "f25ea22d-4b7f-447c-ad2e-17804f6aefa1",
    "outputId": "c1077909-8a3b-4608-eb55-58c011fd64f7"
   },
   "outputs": [
    {
     "data": {
      "text/html": [
       "<div>\n",
       "<style scoped>\n",
       "    .dataframe tbody tr th:only-of-type {\n",
       "        vertical-align: middle;\n",
       "    }\n",
       "\n",
       "    .dataframe tbody tr th {\n",
       "        vertical-align: top;\n",
       "    }\n",
       "\n",
       "    .dataframe thead th {\n",
       "        text-align: right;\n",
       "    }\n",
       "</style>\n",
       "<table border=\"1\" class=\"dataframe\">\n",
       "  <thead>\n",
       "    <tr style=\"text-align: right;\">\n",
       "      <th></th>\n",
       "      <th>age</th>\n",
       "      <th>sex</th>\n",
       "      <th>cp</th>\n",
       "      <th>trestbps</th>\n",
       "      <th>chol</th>\n",
       "      <th>fbs</th>\n",
       "      <th>restecg</th>\n",
       "      <th>thalach</th>\n",
       "      <th>exang</th>\n",
       "      <th>oldpeak</th>\n",
       "      <th>slope</th>\n",
       "      <th>ca</th>\n",
       "      <th>thal</th>\n",
       "      <th>target</th>\n",
       "    </tr>\n",
       "  </thead>\n",
       "  <tbody>\n",
       "    <tr>\n",
       "      <th>count</th>\n",
       "      <td>1025.000000</td>\n",
       "      <td>1025.000000</td>\n",
       "      <td>1025.000000</td>\n",
       "      <td>1025.000000</td>\n",
       "      <td>1025.00000</td>\n",
       "      <td>1025.000000</td>\n",
       "      <td>1025.000000</td>\n",
       "      <td>1025.000000</td>\n",
       "      <td>1025.000000</td>\n",
       "      <td>1025.000000</td>\n",
       "      <td>1025.000000</td>\n",
       "      <td>1025.000000</td>\n",
       "      <td>1025.000000</td>\n",
       "      <td>1025.000000</td>\n",
       "    </tr>\n",
       "    <tr>\n",
       "      <th>mean</th>\n",
       "      <td>54.434146</td>\n",
       "      <td>0.695610</td>\n",
       "      <td>0.942439</td>\n",
       "      <td>131.611707</td>\n",
       "      <td>246.00000</td>\n",
       "      <td>0.149268</td>\n",
       "      <td>0.529756</td>\n",
       "      <td>149.114146</td>\n",
       "      <td>0.336585</td>\n",
       "      <td>1.071512</td>\n",
       "      <td>1.385366</td>\n",
       "      <td>0.754146</td>\n",
       "      <td>2.323902</td>\n",
       "      <td>0.513171</td>\n",
       "    </tr>\n",
       "    <tr>\n",
       "      <th>std</th>\n",
       "      <td>9.072290</td>\n",
       "      <td>0.460373</td>\n",
       "      <td>1.029641</td>\n",
       "      <td>17.516718</td>\n",
       "      <td>51.59251</td>\n",
       "      <td>0.356527</td>\n",
       "      <td>0.527878</td>\n",
       "      <td>23.005724</td>\n",
       "      <td>0.472772</td>\n",
       "      <td>1.175053</td>\n",
       "      <td>0.617755</td>\n",
       "      <td>1.030798</td>\n",
       "      <td>0.620660</td>\n",
       "      <td>0.500070</td>\n",
       "    </tr>\n",
       "    <tr>\n",
       "      <th>min</th>\n",
       "      <td>29.000000</td>\n",
       "      <td>0.000000</td>\n",
       "      <td>0.000000</td>\n",
       "      <td>94.000000</td>\n",
       "      <td>126.00000</td>\n",
       "      <td>0.000000</td>\n",
       "      <td>0.000000</td>\n",
       "      <td>71.000000</td>\n",
       "      <td>0.000000</td>\n",
       "      <td>0.000000</td>\n",
       "      <td>0.000000</td>\n",
       "      <td>0.000000</td>\n",
       "      <td>0.000000</td>\n",
       "      <td>0.000000</td>\n",
       "    </tr>\n",
       "    <tr>\n",
       "      <th>25%</th>\n",
       "      <td>48.000000</td>\n",
       "      <td>0.000000</td>\n",
       "      <td>0.000000</td>\n",
       "      <td>120.000000</td>\n",
       "      <td>211.00000</td>\n",
       "      <td>0.000000</td>\n",
       "      <td>0.000000</td>\n",
       "      <td>132.000000</td>\n",
       "      <td>0.000000</td>\n",
       "      <td>0.000000</td>\n",
       "      <td>1.000000</td>\n",
       "      <td>0.000000</td>\n",
       "      <td>2.000000</td>\n",
       "      <td>0.000000</td>\n",
       "    </tr>\n",
       "    <tr>\n",
       "      <th>50%</th>\n",
       "      <td>56.000000</td>\n",
       "      <td>1.000000</td>\n",
       "      <td>1.000000</td>\n",
       "      <td>130.000000</td>\n",
       "      <td>240.00000</td>\n",
       "      <td>0.000000</td>\n",
       "      <td>1.000000</td>\n",
       "      <td>152.000000</td>\n",
       "      <td>0.000000</td>\n",
       "      <td>0.800000</td>\n",
       "      <td>1.000000</td>\n",
       "      <td>0.000000</td>\n",
       "      <td>2.000000</td>\n",
       "      <td>1.000000</td>\n",
       "    </tr>\n",
       "    <tr>\n",
       "      <th>75%</th>\n",
       "      <td>61.000000</td>\n",
       "      <td>1.000000</td>\n",
       "      <td>2.000000</td>\n",
       "      <td>140.000000</td>\n",
       "      <td>275.00000</td>\n",
       "      <td>0.000000</td>\n",
       "      <td>1.000000</td>\n",
       "      <td>166.000000</td>\n",
       "      <td>1.000000</td>\n",
       "      <td>1.800000</td>\n",
       "      <td>2.000000</td>\n",
       "      <td>1.000000</td>\n",
       "      <td>3.000000</td>\n",
       "      <td>1.000000</td>\n",
       "    </tr>\n",
       "    <tr>\n",
       "      <th>max</th>\n",
       "      <td>77.000000</td>\n",
       "      <td>1.000000</td>\n",
       "      <td>3.000000</td>\n",
       "      <td>200.000000</td>\n",
       "      <td>564.00000</td>\n",
       "      <td>1.000000</td>\n",
       "      <td>2.000000</td>\n",
       "      <td>202.000000</td>\n",
       "      <td>1.000000</td>\n",
       "      <td>6.200000</td>\n",
       "      <td>2.000000</td>\n",
       "      <td>4.000000</td>\n",
       "      <td>3.000000</td>\n",
       "      <td>1.000000</td>\n",
       "    </tr>\n",
       "  </tbody>\n",
       "</table>\n",
       "</div>"
      ],
      "text/plain": [
       "               age          sex           cp     trestbps        chol  \\\n",
       "count  1025.000000  1025.000000  1025.000000  1025.000000  1025.00000   \n",
       "mean     54.434146     0.695610     0.942439   131.611707   246.00000   \n",
       "std       9.072290     0.460373     1.029641    17.516718    51.59251   \n",
       "min      29.000000     0.000000     0.000000    94.000000   126.00000   \n",
       "25%      48.000000     0.000000     0.000000   120.000000   211.00000   \n",
       "50%      56.000000     1.000000     1.000000   130.000000   240.00000   \n",
       "75%      61.000000     1.000000     2.000000   140.000000   275.00000   \n",
       "max      77.000000     1.000000     3.000000   200.000000   564.00000   \n",
       "\n",
       "               fbs      restecg      thalach        exang      oldpeak  \\\n",
       "count  1025.000000  1025.000000  1025.000000  1025.000000  1025.000000   \n",
       "mean      0.149268     0.529756   149.114146     0.336585     1.071512   \n",
       "std       0.356527     0.527878    23.005724     0.472772     1.175053   \n",
       "min       0.000000     0.000000    71.000000     0.000000     0.000000   \n",
       "25%       0.000000     0.000000   132.000000     0.000000     0.000000   \n",
       "50%       0.000000     1.000000   152.000000     0.000000     0.800000   \n",
       "75%       0.000000     1.000000   166.000000     1.000000     1.800000   \n",
       "max       1.000000     2.000000   202.000000     1.000000     6.200000   \n",
       "\n",
       "             slope           ca         thal       target  \n",
       "count  1025.000000  1025.000000  1025.000000  1025.000000  \n",
       "mean      1.385366     0.754146     2.323902     0.513171  \n",
       "std       0.617755     1.030798     0.620660     0.500070  \n",
       "min       0.000000     0.000000     0.000000     0.000000  \n",
       "25%       1.000000     0.000000     2.000000     0.000000  \n",
       "50%       1.000000     0.000000     2.000000     1.000000  \n",
       "75%       2.000000     1.000000     3.000000     1.000000  \n",
       "max       2.000000     4.000000     3.000000     1.000000  "
      ]
     },
     "execution_count": 6,
     "metadata": {},
     "output_type": "execute_result"
    }
   ],
   "source": [
    "# Melihat persebaran data\n",
    "data.describe()"
   ]
  },
  {
   "cell_type": "code",
   "execution_count": 7,
   "id": "2112140b-8d90-4e98-afa7-9edfa3a87294",
   "metadata": {
    "colab": {
     "base_uri": "https://localhost:8080/"
    },
    "id": "2112140b-8d90-4e98-afa7-9edfa3a87294",
    "outputId": "75455bd7-e962-4cf1-c20d-85af108b03b8"
   },
   "outputs": [
    {
     "data": {
      "text/plain": [
       "age          41\n",
       "sex           2\n",
       "cp            4\n",
       "trestbps     49\n",
       "chol        152\n",
       "fbs           2\n",
       "restecg       3\n",
       "thalach      91\n",
       "exang         2\n",
       "oldpeak      40\n",
       "slope         3\n",
       "ca            5\n",
       "thal          4\n",
       "target        2\n",
       "dtype: int64"
      ]
     },
     "execution_count": 7,
     "metadata": {},
     "output_type": "execute_result"
    }
   ],
   "source": [
    "# Melihat uniqueness data\n",
    "data.nunique()"
   ]
  },
  {
   "cell_type": "markdown",
   "id": "84a3a6ac-b966-45cd-a44c-69b8d3c11ffe",
   "metadata": {
    "id": "84a3a6ac-b966-45cd-a44c-69b8d3c11ffe"
   },
   "source": [
    "### Data Quality\n",
    "\n",
    "Disini kita akan melakukan pengecekan karakter, handling missing value, outlier, duplikat dan data imbalance serta skewness."
   ]
  },
  {
   "cell_type": "code",
   "execution_count": 8,
   "id": "4343d48f-6971-4f33-a728-dba98ff3ba14",
   "metadata": {
    "colab": {
     "base_uri": "https://localhost:8080/"
    },
    "id": "4343d48f-6971-4f33-a728-dba98ff3ba14",
    "outputId": "578a33bf-5909-47d6-e498-19ae04dce9fb"
   },
   "outputs": [
    {
     "data": {
      "text/plain": [
       "age           int64\n",
       "sex          object\n",
       "cp           object\n",
       "trestbps      int64\n",
       "chol          int64\n",
       "fbs          object\n",
       "restecg      object\n",
       "thalach       int64\n",
       "exang        object\n",
       "oldpeak     float64\n",
       "slope        object\n",
       "ca           object\n",
       "thal         object\n",
       "target       object\n",
       "dtype: object"
      ]
     },
     "execution_count": 8,
     "metadata": {},
     "output_type": "execute_result"
    }
   ],
   "source": [
    "# Melakukan handling kolom menjadi kategorikal\n",
    "lst=['sex','cp','fbs','restecg','exang','slope','thal','ca','target']\n",
    "data[lst] = data[lst].astype(object)\n",
    "\n",
    "# Melihat perubahan\n",
    "data.dtypes"
   ]
  },
  {
   "cell_type": "code",
   "execution_count": 7,
   "id": "32f97b9e-d79d-4cde-b3b6-155e6258509b",
   "metadata": {
    "id": "32f97b9e-d79d-4cde-b3b6-155e6258509b"
   },
   "outputs": [],
   "source": [
    "# Pelabelan data categorical\n",
    "data['sex'] = data['sex'].replace({1: 'Male',\n",
    "                                   0: 'Female'})\n",
    "data['cp'] = data['cp'].replace({0: 'typical angina',\n",
    "                                 1: 'atypical angina',\n",
    "                                 2: 'non-anginal pain',\n",
    "                                 3: 'asymtomatic'})\n",
    "data['fbs'] = data['fbs'].replace({0: 'No',\n",
    "                                   1: 'Yes'})\n",
    "data['restecg'] = data['restecg'].replace({0: 'probable or definite left ventricular hypertrophy',\n",
    "                                           1:'normal',\n",
    "                                           2: 'ST-T Wave abnormal'})\n",
    "data['exang'] = data['exang'].replace({0: 'No',\n",
    "                                       1: 'Yes'})\n",
    "data['slope'] = data['slope'].replace({0: 'downsloping',\n",
    "                                       1: 'flat',\n",
    "                                       2: 'upsloping'})\n",
    "data['thal'] = data['thal'].replace({1: 'normal',\n",
    "                                     2: 'fixed defect',\n",
    "                                     3: 'reversable defect'})\n",
    "data['ca'] = data['ca'].replace({0: 'Number of major vessels: 0',\n",
    "                                 1: 'Number of major vessels: 1',\n",
    "                                 2: 'Number of major vessels: 2',\n",
    "                                 3: 'Number of major vessels: 3'})\n",
    "data['target'] = data['target'].replace({0: 'No disease',\n",
    "                                         1: 'Disease'})"
   ]
  },
  {
   "cell_type": "code",
   "execution_count": 8,
   "id": "407b976b-1a57-410d-bc71-7c2c3697df90",
   "metadata": {
    "id": "407b976b-1a57-410d-bc71-7c2c3697df90"
   },
   "outputs": [],
   "source": [
    "# Pisahkan numerical dan categorical\n",
    "numerical_col = data.select_dtypes(exclude='object')\n",
    "categorical_col = data.select_dtypes(exclude=['int64','float64'])"
   ]
  },
  {
   "cell_type": "code",
   "execution_count": 9,
   "id": "9b1c2965-4661-44e2-8ab0-12bd6d975400",
   "metadata": {
    "colab": {
     "base_uri": "https://localhost:8080/"
    },
    "id": "9b1c2965-4661-44e2-8ab0-12bd6d975400",
    "outputId": "a80bff2e-beba-415c-c57c-1fe38eecddc9"
   },
   "outputs": [
    {
     "name": "stdout",
     "output_type": "stream",
     "text": [
      "Kolom sex: ['Male' 'Female']\n",
      "\n",
      "Kolom cp: ['typical angina' 'atypical angina' 'non-anginal pain' 'asymtomatic']\n",
      "\n",
      "Kolom fbs: ['No' 'Yes']\n",
      "\n",
      "Kolom restecg: ['normal' 'probable or definite left ventricular hypertrophy'\n",
      " 'ST-T Wave abnormal']\n",
      "\n",
      "Kolom exang: ['No' 'Yes']\n",
      "\n",
      "Kolom slope: ['upsloping' 'downsloping' 'flat']\n",
      "\n",
      "Kolom ca: ['Number of major vessels: 2' 'Number of major vessels: 0'\n",
      " 'Number of major vessels: 1' 'Number of major vessels: 3' 4]\n",
      "\n",
      "Kolom thal: ['reversable defect' 'fixed defect' 'normal' 0]\n",
      "\n",
      "Kolom target: ['No disease' 'Disease']\n",
      "\n"
     ]
    }
   ],
   "source": [
    "# Pengecekan karakter dari data kategorikal\n",
    "for i in categorical_col:\n",
    "    print(\"Kolom {}: {}\".format(i, data[i].unique()))\n",
    "    print()"
   ]
  },
  {
   "cell_type": "markdown",
   "id": "84aeebab-883c-4919-b72e-6abbd442a7dc",
   "metadata": {
    "id": "84aeebab-883c-4919-b72e-6abbd442a7dc"
   },
   "source": [
    "Terdapat dua feature yang mengalami kesalahan penulisan:\n",
    "1. Feature 'CA': Memiliki 5 nilai dari rentang 0-4, maka dari itu nilai 4 diubah menjadi NaN (karena seharusnya tidak ada)\n",
    "2. Feature 'thal': Memiliki 4 nilai dari rentang 0-3, maka dari itu nulai 0 diubah menjadi NaN (karena seharusnya tidak ada)"
   ]
  },
  {
   "cell_type": "code",
   "execution_count": 13,
   "id": "d161f2ec-651b-466c-9f6e-a17c8b04d221",
   "metadata": {
    "colab": {
     "base_uri": "https://localhost:8080/"
    },
    "id": "d161f2ec-651b-466c-9f6e-a17c8b04d221",
    "outputId": "e534ad9e-aede-4780-aef6-4661e0c04933"
   },
   "outputs": [
    {
     "data": {
      "text/plain": [
       "Number of major vessels: 0    578\n",
       "Number of major vessels: 1    226\n",
       "Number of major vessels: 2    134\n",
       "Number of major vessels: 3     69\n",
       "4                              18\n",
       "Name: ca, dtype: int64"
      ]
     },
     "execution_count": 13,
     "metadata": {},
     "output_type": "execute_result"
    }
   ],
   "source": [
    "# Melihat jumlah nilai unik dari kolom 'ca'\n",
    "data['ca'].value_counts()"
   ]
  },
  {
   "cell_type": "markdown",
   "id": "8a09a279-011a-464a-aa59-a513fcefb295",
   "metadata": {
    "id": "8a09a279-011a-464a-aa59-a513fcefb295"
   },
   "source": [
    "Bahwa ada data di kolom 'ca' yang bernilai '4' sebanyak 18. Padahal nilai '4' harusnya tidak ada."
   ]
  },
  {
   "cell_type": "code",
   "execution_count": 14,
   "id": "e72124c8-da92-4872-a8b5-3881d40bbbe4",
   "metadata": {
    "colab": {
     "base_uri": "https://localhost:8080/",
     "height": 1000
    },
    "id": "e72124c8-da92-4872-a8b5-3881d40bbbe4",
    "outputId": "93e3e0cf-816a-493d-d5e0-b2f19382c46c"
   },
   "outputs": [
    {
     "data": {
      "text/html": [
       "<div>\n",
       "<style scoped>\n",
       "    .dataframe tbody tr th:only-of-type {\n",
       "        vertical-align: middle;\n",
       "    }\n",
       "\n",
       "    .dataframe tbody tr th {\n",
       "        vertical-align: top;\n",
       "    }\n",
       "\n",
       "    .dataframe thead th {\n",
       "        text-align: right;\n",
       "    }\n",
       "</style>\n",
       "<table border=\"1\" class=\"dataframe\">\n",
       "  <thead>\n",
       "    <tr style=\"text-align: right;\">\n",
       "      <th></th>\n",
       "      <th>age</th>\n",
       "      <th>sex</th>\n",
       "      <th>cp</th>\n",
       "      <th>trestbps</th>\n",
       "      <th>chol</th>\n",
       "      <th>fbs</th>\n",
       "      <th>restecg</th>\n",
       "      <th>thalach</th>\n",
       "      <th>exang</th>\n",
       "      <th>oldpeak</th>\n",
       "      <th>slope</th>\n",
       "      <th>ca</th>\n",
       "      <th>thal</th>\n",
       "      <th>target</th>\n",
       "    </tr>\n",
       "  </thead>\n",
       "  <tbody>\n",
       "    <tr>\n",
       "      <th>52</th>\n",
       "      <td>38</td>\n",
       "      <td>Male</td>\n",
       "      <td>non-anginal pain</td>\n",
       "      <td>138</td>\n",
       "      <td>175</td>\n",
       "      <td>No</td>\n",
       "      <td>normal</td>\n",
       "      <td>173</td>\n",
       "      <td>No</td>\n",
       "      <td>0.0</td>\n",
       "      <td>upsloping</td>\n",
       "      <td>4</td>\n",
       "      <td>fixed defect</td>\n",
       "      <td>Disease</td>\n",
       "    </tr>\n",
       "    <tr>\n",
       "      <th>83</th>\n",
       "      <td>38</td>\n",
       "      <td>Male</td>\n",
       "      <td>non-anginal pain</td>\n",
       "      <td>138</td>\n",
       "      <td>175</td>\n",
       "      <td>No</td>\n",
       "      <td>normal</td>\n",
       "      <td>173</td>\n",
       "      <td>No</td>\n",
       "      <td>0.0</td>\n",
       "      <td>upsloping</td>\n",
       "      <td>4</td>\n",
       "      <td>fixed defect</td>\n",
       "      <td>Disease</td>\n",
       "    </tr>\n",
       "    <tr>\n",
       "      <th>128</th>\n",
       "      <td>52</td>\n",
       "      <td>Male</td>\n",
       "      <td>non-anginal pain</td>\n",
       "      <td>138</td>\n",
       "      <td>223</td>\n",
       "      <td>No</td>\n",
       "      <td>normal</td>\n",
       "      <td>169</td>\n",
       "      <td>No</td>\n",
       "      <td>0.0</td>\n",
       "      <td>upsloping</td>\n",
       "      <td>4</td>\n",
       "      <td>fixed defect</td>\n",
       "      <td>Disease</td>\n",
       "    </tr>\n",
       "    <tr>\n",
       "      <th>208</th>\n",
       "      <td>38</td>\n",
       "      <td>Male</td>\n",
       "      <td>non-anginal pain</td>\n",
       "      <td>138</td>\n",
       "      <td>175</td>\n",
       "      <td>No</td>\n",
       "      <td>normal</td>\n",
       "      <td>173</td>\n",
       "      <td>No</td>\n",
       "      <td>0.0</td>\n",
       "      <td>upsloping</td>\n",
       "      <td>4</td>\n",
       "      <td>fixed defect</td>\n",
       "      <td>Disease</td>\n",
       "    </tr>\n",
       "    <tr>\n",
       "      <th>242</th>\n",
       "      <td>38</td>\n",
       "      <td>Male</td>\n",
       "      <td>non-anginal pain</td>\n",
       "      <td>138</td>\n",
       "      <td>175</td>\n",
       "      <td>No</td>\n",
       "      <td>normal</td>\n",
       "      <td>173</td>\n",
       "      <td>No</td>\n",
       "      <td>0.0</td>\n",
       "      <td>upsloping</td>\n",
       "      <td>4</td>\n",
       "      <td>fixed defect</td>\n",
       "      <td>Disease</td>\n",
       "    </tr>\n",
       "    <tr>\n",
       "      <th>290</th>\n",
       "      <td>52</td>\n",
       "      <td>Male</td>\n",
       "      <td>non-anginal pain</td>\n",
       "      <td>138</td>\n",
       "      <td>223</td>\n",
       "      <td>No</td>\n",
       "      <td>normal</td>\n",
       "      <td>169</td>\n",
       "      <td>No</td>\n",
       "      <td>0.0</td>\n",
       "      <td>upsloping</td>\n",
       "      <td>4</td>\n",
       "      <td>fixed defect</td>\n",
       "      <td>Disease</td>\n",
       "    </tr>\n",
       "    <tr>\n",
       "      <th>340</th>\n",
       "      <td>38</td>\n",
       "      <td>Male</td>\n",
       "      <td>non-anginal pain</td>\n",
       "      <td>138</td>\n",
       "      <td>175</td>\n",
       "      <td>No</td>\n",
       "      <td>normal</td>\n",
       "      <td>173</td>\n",
       "      <td>No</td>\n",
       "      <td>0.0</td>\n",
       "      <td>upsloping</td>\n",
       "      <td>4</td>\n",
       "      <td>fixed defect</td>\n",
       "      <td>Disease</td>\n",
       "    </tr>\n",
       "    <tr>\n",
       "      <th>348</th>\n",
       "      <td>43</td>\n",
       "      <td>Male</td>\n",
       "      <td>typical angina</td>\n",
       "      <td>132</td>\n",
       "      <td>247</td>\n",
       "      <td>Yes</td>\n",
       "      <td>probable or definite left ventricular hypertrophy</td>\n",
       "      <td>143</td>\n",
       "      <td>Yes</td>\n",
       "      <td>0.1</td>\n",
       "      <td>flat</td>\n",
       "      <td>4</td>\n",
       "      <td>reversable defect</td>\n",
       "      <td>No disease</td>\n",
       "    </tr>\n",
       "    <tr>\n",
       "      <th>417</th>\n",
       "      <td>52</td>\n",
       "      <td>Male</td>\n",
       "      <td>non-anginal pain</td>\n",
       "      <td>138</td>\n",
       "      <td>223</td>\n",
       "      <td>No</td>\n",
       "      <td>normal</td>\n",
       "      <td>169</td>\n",
       "      <td>No</td>\n",
       "      <td>0.0</td>\n",
       "      <td>upsloping</td>\n",
       "      <td>4</td>\n",
       "      <td>fixed defect</td>\n",
       "      <td>Disease</td>\n",
       "    </tr>\n",
       "    <tr>\n",
       "      <th>428</th>\n",
       "      <td>43</td>\n",
       "      <td>Male</td>\n",
       "      <td>typical angina</td>\n",
       "      <td>132</td>\n",
       "      <td>247</td>\n",
       "      <td>Yes</td>\n",
       "      <td>probable or definite left ventricular hypertrophy</td>\n",
       "      <td>143</td>\n",
       "      <td>Yes</td>\n",
       "      <td>0.1</td>\n",
       "      <td>flat</td>\n",
       "      <td>4</td>\n",
       "      <td>reversable defect</td>\n",
       "      <td>No disease</td>\n",
       "    </tr>\n",
       "    <tr>\n",
       "      <th>465</th>\n",
       "      <td>38</td>\n",
       "      <td>Male</td>\n",
       "      <td>non-anginal pain</td>\n",
       "      <td>138</td>\n",
       "      <td>175</td>\n",
       "      <td>No</td>\n",
       "      <td>normal</td>\n",
       "      <td>173</td>\n",
       "      <td>No</td>\n",
       "      <td>0.0</td>\n",
       "      <td>upsloping</td>\n",
       "      <td>4</td>\n",
       "      <td>fixed defect</td>\n",
       "      <td>Disease</td>\n",
       "    </tr>\n",
       "    <tr>\n",
       "      <th>521</th>\n",
       "      <td>58</td>\n",
       "      <td>Male</td>\n",
       "      <td>atypical angina</td>\n",
       "      <td>125</td>\n",
       "      <td>220</td>\n",
       "      <td>No</td>\n",
       "      <td>normal</td>\n",
       "      <td>144</td>\n",
       "      <td>No</td>\n",
       "      <td>0.4</td>\n",
       "      <td>flat</td>\n",
       "      <td>4</td>\n",
       "      <td>reversable defect</td>\n",
       "      <td>Disease</td>\n",
       "    </tr>\n",
       "    <tr>\n",
       "      <th>597</th>\n",
       "      <td>38</td>\n",
       "      <td>Male</td>\n",
       "      <td>non-anginal pain</td>\n",
       "      <td>138</td>\n",
       "      <td>175</td>\n",
       "      <td>No</td>\n",
       "      <td>normal</td>\n",
       "      <td>173</td>\n",
       "      <td>No</td>\n",
       "      <td>0.0</td>\n",
       "      <td>upsloping</td>\n",
       "      <td>4</td>\n",
       "      <td>fixed defect</td>\n",
       "      <td>Disease</td>\n",
       "    </tr>\n",
       "    <tr>\n",
       "      <th>743</th>\n",
       "      <td>58</td>\n",
       "      <td>Male</td>\n",
       "      <td>atypical angina</td>\n",
       "      <td>125</td>\n",
       "      <td>220</td>\n",
       "      <td>No</td>\n",
       "      <td>normal</td>\n",
       "      <td>144</td>\n",
       "      <td>No</td>\n",
       "      <td>0.4</td>\n",
       "      <td>flat</td>\n",
       "      <td>4</td>\n",
       "      <td>reversable defect</td>\n",
       "      <td>Disease</td>\n",
       "    </tr>\n",
       "    <tr>\n",
       "      <th>749</th>\n",
       "      <td>58</td>\n",
       "      <td>Male</td>\n",
       "      <td>atypical angina</td>\n",
       "      <td>125</td>\n",
       "      <td>220</td>\n",
       "      <td>No</td>\n",
       "      <td>normal</td>\n",
       "      <td>144</td>\n",
       "      <td>No</td>\n",
       "      <td>0.4</td>\n",
       "      <td>flat</td>\n",
       "      <td>4</td>\n",
       "      <td>reversable defect</td>\n",
       "      <td>Disease</td>\n",
       "    </tr>\n",
       "    <tr>\n",
       "      <th>831</th>\n",
       "      <td>58</td>\n",
       "      <td>Male</td>\n",
       "      <td>atypical angina</td>\n",
       "      <td>125</td>\n",
       "      <td>220</td>\n",
       "      <td>No</td>\n",
       "      <td>normal</td>\n",
       "      <td>144</td>\n",
       "      <td>No</td>\n",
       "      <td>0.4</td>\n",
       "      <td>flat</td>\n",
       "      <td>4</td>\n",
       "      <td>reversable defect</td>\n",
       "      <td>Disease</td>\n",
       "    </tr>\n",
       "    <tr>\n",
       "      <th>970</th>\n",
       "      <td>38</td>\n",
       "      <td>Male</td>\n",
       "      <td>non-anginal pain</td>\n",
       "      <td>138</td>\n",
       "      <td>175</td>\n",
       "      <td>No</td>\n",
       "      <td>normal</td>\n",
       "      <td>173</td>\n",
       "      <td>No</td>\n",
       "      <td>0.0</td>\n",
       "      <td>upsloping</td>\n",
       "      <td>4</td>\n",
       "      <td>fixed defect</td>\n",
       "      <td>Disease</td>\n",
       "    </tr>\n",
       "    <tr>\n",
       "      <th>993</th>\n",
       "      <td>43</td>\n",
       "      <td>Male</td>\n",
       "      <td>typical angina</td>\n",
       "      <td>132</td>\n",
       "      <td>247</td>\n",
       "      <td>Yes</td>\n",
       "      <td>probable or definite left ventricular hypertrophy</td>\n",
       "      <td>143</td>\n",
       "      <td>Yes</td>\n",
       "      <td>0.1</td>\n",
       "      <td>flat</td>\n",
       "      <td>4</td>\n",
       "      <td>reversable defect</td>\n",
       "      <td>No disease</td>\n",
       "    </tr>\n",
       "  </tbody>\n",
       "</table>\n",
       "</div>"
      ],
      "text/plain": [
       "     age   sex                cp  trestbps  chol  fbs  \\\n",
       "52    38  Male  non-anginal pain       138   175   No   \n",
       "83    38  Male  non-anginal pain       138   175   No   \n",
       "128   52  Male  non-anginal pain       138   223   No   \n",
       "208   38  Male  non-anginal pain       138   175   No   \n",
       "242   38  Male  non-anginal pain       138   175   No   \n",
       "290   52  Male  non-anginal pain       138   223   No   \n",
       "340   38  Male  non-anginal pain       138   175   No   \n",
       "348   43  Male    typical angina       132   247  Yes   \n",
       "417   52  Male  non-anginal pain       138   223   No   \n",
       "428   43  Male    typical angina       132   247  Yes   \n",
       "465   38  Male  non-anginal pain       138   175   No   \n",
       "521   58  Male   atypical angina       125   220   No   \n",
       "597   38  Male  non-anginal pain       138   175   No   \n",
       "743   58  Male   atypical angina       125   220   No   \n",
       "749   58  Male   atypical angina       125   220   No   \n",
       "831   58  Male   atypical angina       125   220   No   \n",
       "970   38  Male  non-anginal pain       138   175   No   \n",
       "993   43  Male    typical angina       132   247  Yes   \n",
       "\n",
       "                                               restecg  thalach exang  \\\n",
       "52                                              normal      173    No   \n",
       "83                                              normal      173    No   \n",
       "128                                             normal      169    No   \n",
       "208                                             normal      173    No   \n",
       "242                                             normal      173    No   \n",
       "290                                             normal      169    No   \n",
       "340                                             normal      173    No   \n",
       "348  probable or definite left ventricular hypertrophy      143   Yes   \n",
       "417                                             normal      169    No   \n",
       "428  probable or definite left ventricular hypertrophy      143   Yes   \n",
       "465                                             normal      173    No   \n",
       "521                                             normal      144    No   \n",
       "597                                             normal      173    No   \n",
       "743                                             normal      144    No   \n",
       "749                                             normal      144    No   \n",
       "831                                             normal      144    No   \n",
       "970                                             normal      173    No   \n",
       "993  probable or definite left ventricular hypertrophy      143   Yes   \n",
       "\n",
       "     oldpeak      slope ca               thal      target  \n",
       "52       0.0  upsloping  4       fixed defect     Disease  \n",
       "83       0.0  upsloping  4       fixed defect     Disease  \n",
       "128      0.0  upsloping  4       fixed defect     Disease  \n",
       "208      0.0  upsloping  4       fixed defect     Disease  \n",
       "242      0.0  upsloping  4       fixed defect     Disease  \n",
       "290      0.0  upsloping  4       fixed defect     Disease  \n",
       "340      0.0  upsloping  4       fixed defect     Disease  \n",
       "348      0.1       flat  4  reversable defect  No disease  \n",
       "417      0.0  upsloping  4       fixed defect     Disease  \n",
       "428      0.1       flat  4  reversable defect  No disease  \n",
       "465      0.0  upsloping  4       fixed defect     Disease  \n",
       "521      0.4       flat  4  reversable defect     Disease  \n",
       "597      0.0  upsloping  4       fixed defect     Disease  \n",
       "743      0.4       flat  4  reversable defect     Disease  \n",
       "749      0.4       flat  4  reversable defect     Disease  \n",
       "831      0.4       flat  4  reversable defect     Disease  \n",
       "970      0.0  upsloping  4       fixed defect     Disease  \n",
       "993      0.1       flat  4  reversable defect  No disease  "
      ]
     },
     "execution_count": 14,
     "metadata": {},
     "output_type": "execute_result"
    }
   ],
   "source": [
    "# Menemukan baris dengan kolom 'ca' bernilai '4'\n",
    "data[data['ca']==4]"
   ]
  },
  {
   "cell_type": "code",
   "execution_count": 17,
   "id": "e081e457",
   "metadata": {
    "colab": {
     "base_uri": "https://localhost:8080/"
    },
    "id": "7693db65-e5cc-45fd-a17d-de5538a47b26",
    "outputId": "c6bf4ad3-61d4-4134-92f2-9e4fda80aac6"
   },
   "outputs": [
    {
     "data": {
      "text/plain": [
       "fixed defect         544\n",
       "reversable defect    410\n",
       "normal                64\n",
       "0                      7\n",
       "Name: thal, dtype: int64"
      ]
     },
     "execution_count": 17,
     "metadata": {},
     "output_type": "execute_result"
    }
   ],
   "source": [
    "# Melihat jumlah nilai unik dari kolom 'thal'\n",
    "data['thal'].value_counts()"
   ]
  },
  {
   "cell_type": "markdown",
   "id": "f55ad6b5",
   "metadata": {
    "id": "c4b83b0b-2843-4947-b6f2-6c3ee23bfd33"
   },
   "source": [
    "Bahwa ada data di kolom 'thal' yang bernilai '0' sebanyak 7. Padahal nilai '0' harusnya tidak ada."
   ]
  },
  {
   "cell_type": "code",
   "execution_count": 18,
   "id": "62dc6c06",
   "metadata": {
    "colab": {
     "base_uri": "https://localhost:8080/",
     "height": 0
    },
    "id": "c02294a8-3137-4ecd-8d8d-0a5fbf6bc1c6",
    "outputId": "88364669-2fda-4983-d37d-7eac3e1eb6c0"
   },
   "outputs": [
    {
     "data": {
      "text/html": [
       "<div>\n",
       "<style scoped>\n",
       "    .dataframe tbody tr th:only-of-type {\n",
       "        vertical-align: middle;\n",
       "    }\n",
       "\n",
       "    .dataframe tbody tr th {\n",
       "        vertical-align: top;\n",
       "    }\n",
       "\n",
       "    .dataframe thead th {\n",
       "        text-align: right;\n",
       "    }\n",
       "</style>\n",
       "<table border=\"1\" class=\"dataframe\">\n",
       "  <thead>\n",
       "    <tr style=\"text-align: right;\">\n",
       "      <th></th>\n",
       "      <th>age</th>\n",
       "      <th>sex</th>\n",
       "      <th>cp</th>\n",
       "      <th>trestbps</th>\n",
       "      <th>chol</th>\n",
       "      <th>fbs</th>\n",
       "      <th>restecg</th>\n",
       "      <th>thalach</th>\n",
       "      <th>exang</th>\n",
       "      <th>oldpeak</th>\n",
       "      <th>slope</th>\n",
       "      <th>ca</th>\n",
       "      <th>thal</th>\n",
       "      <th>target</th>\n",
       "    </tr>\n",
       "  </thead>\n",
       "  <tbody>\n",
       "    <tr>\n",
       "      <th>14</th>\n",
       "      <td>52</td>\n",
       "      <td>Male</td>\n",
       "      <td>typical angina</td>\n",
       "      <td>128</td>\n",
       "      <td>204</td>\n",
       "      <td>Yes</td>\n",
       "      <td>normal</td>\n",
       "      <td>156</td>\n",
       "      <td>Yes</td>\n",
       "      <td>1.0</td>\n",
       "      <td>flat</td>\n",
       "      <td>Number of major vessels: 0</td>\n",
       "      <td>0</td>\n",
       "      <td>No disease</td>\n",
       "    </tr>\n",
       "    <tr>\n",
       "      <th>319</th>\n",
       "      <td>53</td>\n",
       "      <td>Female</td>\n",
       "      <td>non-anginal pain</td>\n",
       "      <td>128</td>\n",
       "      <td>216</td>\n",
       "      <td>No</td>\n",
       "      <td>probable or definite left ventricular hypertrophy</td>\n",
       "      <td>115</td>\n",
       "      <td>No</td>\n",
       "      <td>0.0</td>\n",
       "      <td>upsloping</td>\n",
       "      <td>Number of major vessels: 0</td>\n",
       "      <td>0</td>\n",
       "      <td>Disease</td>\n",
       "    </tr>\n",
       "    <tr>\n",
       "      <th>329</th>\n",
       "      <td>53</td>\n",
       "      <td>Female</td>\n",
       "      <td>non-anginal pain</td>\n",
       "      <td>128</td>\n",
       "      <td>216</td>\n",
       "      <td>No</td>\n",
       "      <td>probable or definite left ventricular hypertrophy</td>\n",
       "      <td>115</td>\n",
       "      <td>No</td>\n",
       "      <td>0.0</td>\n",
       "      <td>upsloping</td>\n",
       "      <td>Number of major vessels: 0</td>\n",
       "      <td>0</td>\n",
       "      <td>Disease</td>\n",
       "    </tr>\n",
       "    <tr>\n",
       "      <th>359</th>\n",
       "      <td>53</td>\n",
       "      <td>Female</td>\n",
       "      <td>non-anginal pain</td>\n",
       "      <td>128</td>\n",
       "      <td>216</td>\n",
       "      <td>No</td>\n",
       "      <td>probable or definite left ventricular hypertrophy</td>\n",
       "      <td>115</td>\n",
       "      <td>No</td>\n",
       "      <td>0.0</td>\n",
       "      <td>upsloping</td>\n",
       "      <td>Number of major vessels: 0</td>\n",
       "      <td>0</td>\n",
       "      <td>Disease</td>\n",
       "    </tr>\n",
       "    <tr>\n",
       "      <th>686</th>\n",
       "      <td>52</td>\n",
       "      <td>Male</td>\n",
       "      <td>typical angina</td>\n",
       "      <td>128</td>\n",
       "      <td>204</td>\n",
       "      <td>Yes</td>\n",
       "      <td>normal</td>\n",
       "      <td>156</td>\n",
       "      <td>Yes</td>\n",
       "      <td>1.0</td>\n",
       "      <td>flat</td>\n",
       "      <td>Number of major vessels: 0</td>\n",
       "      <td>0</td>\n",
       "      <td>No disease</td>\n",
       "    </tr>\n",
       "    <tr>\n",
       "      <th>734</th>\n",
       "      <td>52</td>\n",
       "      <td>Male</td>\n",
       "      <td>typical angina</td>\n",
       "      <td>128</td>\n",
       "      <td>204</td>\n",
       "      <td>Yes</td>\n",
       "      <td>normal</td>\n",
       "      <td>156</td>\n",
       "      <td>Yes</td>\n",
       "      <td>1.0</td>\n",
       "      <td>flat</td>\n",
       "      <td>Number of major vessels: 0</td>\n",
       "      <td>0</td>\n",
       "      <td>No disease</td>\n",
       "    </tr>\n",
       "    <tr>\n",
       "      <th>893</th>\n",
       "      <td>52</td>\n",
       "      <td>Male</td>\n",
       "      <td>typical angina</td>\n",
       "      <td>128</td>\n",
       "      <td>204</td>\n",
       "      <td>Yes</td>\n",
       "      <td>normal</td>\n",
       "      <td>156</td>\n",
       "      <td>Yes</td>\n",
       "      <td>1.0</td>\n",
       "      <td>flat</td>\n",
       "      <td>Number of major vessels: 0</td>\n",
       "      <td>0</td>\n",
       "      <td>No disease</td>\n",
       "    </tr>\n",
       "  </tbody>\n",
       "</table>\n",
       "</div>"
      ],
      "text/plain": [
       "     age     sex                cp  trestbps  chol  fbs  \\\n",
       "14    52    Male    typical angina       128   204  Yes   \n",
       "319   53  Female  non-anginal pain       128   216   No   \n",
       "329   53  Female  non-anginal pain       128   216   No   \n",
       "359   53  Female  non-anginal pain       128   216   No   \n",
       "686   52    Male    typical angina       128   204  Yes   \n",
       "734   52    Male    typical angina       128   204  Yes   \n",
       "893   52    Male    typical angina       128   204  Yes   \n",
       "\n",
       "                                               restecg  thalach exang  \\\n",
       "14                                              normal      156   Yes   \n",
       "319  probable or definite left ventricular hypertrophy      115    No   \n",
       "329  probable or definite left ventricular hypertrophy      115    No   \n",
       "359  probable or definite left ventricular hypertrophy      115    No   \n",
       "686                                             normal      156   Yes   \n",
       "734                                             normal      156   Yes   \n",
       "893                                             normal      156   Yes   \n",
       "\n",
       "     oldpeak      slope                          ca thal      target  \n",
       "14       1.0       flat  Number of major vessels: 0    0  No disease  \n",
       "319      0.0  upsloping  Number of major vessels: 0    0     Disease  \n",
       "329      0.0  upsloping  Number of major vessels: 0    0     Disease  \n",
       "359      0.0  upsloping  Number of major vessels: 0    0     Disease  \n",
       "686      1.0       flat  Number of major vessels: 0    0  No disease  \n",
       "734      1.0       flat  Number of major vessels: 0    0  No disease  \n",
       "893      1.0       flat  Number of major vessels: 0    0  No disease  "
      ]
     },
     "execution_count": 18,
     "metadata": {},
     "output_type": "execute_result"
    }
   ],
   "source": [
    "# Menemukan baris dengan kolom 'thal' bernilai '0'\n",
    "data[data['thal']==0]"
   ]
  },
  {
   "cell_type": "markdown",
   "id": "OBogg8MabvwL",
   "metadata": {
    "id": "OBogg8MabvwL"
   },
   "source": [
    "### Handling Unexpected Value"
   ]
  },
  {
   "cell_type": "code",
   "execution_count": 10,
   "id": "3822a7ba-5acb-484a-ac69-5dfe9457b1d4",
   "metadata": {
    "id": "3822a7ba-5acb-484a-ac69-5dfe9457b1d4"
   },
   "outputs": [],
   "source": [
    "# Ganti kolom 'ca' yang bernilai '4' menjadi NaN\n",
    "data.loc[data['ca']==4, 'ca'] = np.nan"
   ]
  },
  {
   "cell_type": "code",
   "execution_count": 11,
   "id": "00f66582-3739-4448-9d60-bd4e270c878e",
   "metadata": {
    "colab": {
     "base_uri": "https://localhost:8080/"
    },
    "id": "00f66582-3739-4448-9d60-bd4e270c878e",
    "outputId": "2a08596e-3475-4494-f9e0-fbce462957d6"
   },
   "outputs": [
    {
     "data": {
      "text/plain": [
       "Number of major vessels: 0    578\n",
       "Number of major vessels: 1    226\n",
       "Number of major vessels: 2    134\n",
       "Number of major vessels: 3     69\n",
       "Name: ca, dtype: int64"
      ]
     },
     "execution_count": 11,
     "metadata": {},
     "output_type": "execute_result"
    }
   ],
   "source": [
    "# Cek kembali apakah masih ada data kolom 'ca' yang bernilai '4'\n",
    "data['ca'].value_counts()"
   ]
  },
  {
   "cell_type": "code",
   "execution_count": 12,
   "id": "44810acd-673c-4b88-b91c-fa9ff7846356",
   "metadata": {
    "id": "44810acd-673c-4b88-b91c-fa9ff7846356"
   },
   "outputs": [],
   "source": [
    "# Ganti kolom 'thal' yang bernilai '0' menjadi NaN\n",
    "data.loc[data['thal']==0, 'thal'] = np.nan"
   ]
  },
  {
   "cell_type": "code",
   "execution_count": 13,
   "id": "295a6ce2-c5c4-4ac8-b2d1-7601c4dc906a",
   "metadata": {
    "colab": {
     "base_uri": "https://localhost:8080/"
    },
    "id": "295a6ce2-c5c4-4ac8-b2d1-7601c4dc906a",
    "outputId": "4f0d6f4a-8276-46d0-977e-ce0fb5126b0c"
   },
   "outputs": [
    {
     "data": {
      "text/plain": [
       "fixed defect         544\n",
       "reversable defect    410\n",
       "normal                64\n",
       "Name: thal, dtype: int64"
      ]
     },
     "execution_count": 13,
     "metadata": {},
     "output_type": "execute_result"
    }
   ],
   "source": [
    "# Cek kembali apakah masih ada data kolom 'thal' yang bernilai '0'\n",
    "data['thal'].value_counts()"
   ]
  },
  {
   "cell_type": "markdown",
   "id": "8a3cd303-69c2-4aef-865a-9075a198cde0",
   "metadata": {
    "id": "8a3cd303-69c2-4aef-865a-9075a198cde0"
   },
   "source": [
    "### Handling Missing Value"
   ]
  },
  {
   "cell_type": "code",
   "execution_count": 14,
   "id": "8840d817-f990-4f4c-a39b-4414ad0468c7",
   "metadata": {
    "colab": {
     "base_uri": "https://localhost:8080/"
    },
    "id": "8840d817-f990-4f4c-a39b-4414ad0468c7",
    "outputId": "341778f0-1fa5-4d57-c8ff-f8c0cd6e5713",
    "scrolled": true
   },
   "outputs": [
    {
     "name": "stdout",
     "output_type": "stream",
     "text": [
      "Hasil missing value:\n",
      " age          0\n",
      "sex          0\n",
      "cp           0\n",
      "trestbps     0\n",
      "chol         0\n",
      "fbs          0\n",
      "restecg      0\n",
      "thalach      0\n",
      "exang        0\n",
      "oldpeak      0\n",
      "slope        0\n",
      "ca          18\n",
      "thal         7\n",
      "target       0\n",
      "dtype: int64\n"
     ]
    }
   ],
   "source": [
    "# Check missing values\n",
    "print(\"Hasil missing value:\\n\", data.isnull().sum())"
   ]
  },
  {
   "cell_type": "code",
   "execution_count": 15,
   "id": "b7cc3b3b-ba8a-47d6-8b48-709687a78c5f",
   "metadata": {
    "id": "b7cc3b3b-ba8a-47d6-8b48-709687a78c5f"
   },
   "outputs": [],
   "source": [
    "# Fillna pada kolom 'ca' dengan modus\n",
    "modus_ca = data['ca'].mode()[0]\n",
    "data['ca'] = data['ca'].fillna(modus_ca)"
   ]
  },
  {
   "cell_type": "code",
   "execution_count": 16,
   "id": "QUDgBvhifFcl",
   "metadata": {
    "id": "QUDgBvhifFcl"
   },
   "outputs": [],
   "source": [
    "# Fillna pada kolom 'thal' dengan modus\n",
    "modus_thal = data['thal'].mode()[0]\n",
    "data['thal'] = data['thal'].fillna(modus_thal)"
   ]
  },
  {
   "cell_type": "code",
   "execution_count": 17,
   "id": "e303c9b0-9aae-492a-a040-2b575a92e4a8",
   "metadata": {
    "colab": {
     "base_uri": "https://localhost:8080/"
    },
    "id": "e303c9b0-9aae-492a-a040-2b575a92e4a8",
    "outputId": "12728e84-a5a0-43ba-b1cc-42a96e649f54"
   },
   "outputs": [
    {
     "name": "stdout",
     "output_type": "stream",
     "text": [
      "Hasil missing value:\n",
      " age         0\n",
      "sex         0\n",
      "cp          0\n",
      "trestbps    0\n",
      "chol        0\n",
      "fbs         0\n",
      "restecg     0\n",
      "thalach     0\n",
      "exang       0\n",
      "oldpeak     0\n",
      "slope       0\n",
      "ca          0\n",
      "thal        0\n",
      "target      0\n",
      "dtype: int64\n"
     ]
    }
   ],
   "source": [
    "# Check missing values kembali\n",
    "print(\"Hasil missing value:\\n\", data.isnull().sum())"
   ]
  },
  {
   "cell_type": "markdown",
   "id": "f31eb98c-8fc2-4d30-85fc-fe6dbc857721",
   "metadata": {
    "id": "f31eb98c-8fc2-4d30-85fc-fe6dbc857721"
   },
   "source": [
    "### Handling Duplicates Record"
   ]
  },
  {
   "cell_type": "code",
   "execution_count": 18,
   "id": "f551587a-c324-4869-bf1c-e8398818974a",
   "metadata": {
    "colab": {
     "base_uri": "https://localhost:8080/"
    },
    "id": "f551587a-c324-4869-bf1c-e8398818974a",
    "outputId": "c11a5d6b-102b-435b-b698-b50c97145733"
   },
   "outputs": [
    {
     "name": "stdout",
     "output_type": "stream",
     "text": [
      "data duplikat: 723\n"
     ]
    }
   ],
   "source": [
    "# Memeriksa duplikat data\n",
    "print(f'data duplikat: {data.duplicated().sum()}')"
   ]
  },
  {
   "cell_type": "code",
   "execution_count": 19,
   "id": "82ff5146-b473-4f9e-a0e8-70faf6368a19",
   "metadata": {
    "colab": {
     "base_uri": "https://localhost:8080/",
     "height": 0
    },
    "id": "82ff5146-b473-4f9e-a0e8-70faf6368a19",
    "outputId": "306efc95-ce59-4997-fb9c-fa00b77dff38"
   },
   "outputs": [
    {
     "data": {
      "text/html": [
       "<div>\n",
       "<style scoped>\n",
       "    .dataframe tbody tr th:only-of-type {\n",
       "        vertical-align: middle;\n",
       "    }\n",
       "\n",
       "    .dataframe tbody tr th {\n",
       "        vertical-align: top;\n",
       "    }\n",
       "\n",
       "    .dataframe thead th {\n",
       "        text-align: right;\n",
       "    }\n",
       "</style>\n",
       "<table border=\"1\" class=\"dataframe\">\n",
       "  <thead>\n",
       "    <tr style=\"text-align: right;\">\n",
       "      <th></th>\n",
       "      <th>age</th>\n",
       "      <th>sex</th>\n",
       "      <th>cp</th>\n",
       "      <th>trestbps</th>\n",
       "      <th>chol</th>\n",
       "      <th>fbs</th>\n",
       "      <th>restecg</th>\n",
       "      <th>thalach</th>\n",
       "      <th>exang</th>\n",
       "      <th>oldpeak</th>\n",
       "      <th>slope</th>\n",
       "      <th>ca</th>\n",
       "      <th>thal</th>\n",
       "      <th>target</th>\n",
       "    </tr>\n",
       "  </thead>\n",
       "  <tbody>\n",
       "    <tr>\n",
       "      <th>15</th>\n",
       "      <td>34</td>\n",
       "      <td>Female</td>\n",
       "      <td>atypical angina</td>\n",
       "      <td>118</td>\n",
       "      <td>210</td>\n",
       "      <td>No</td>\n",
       "      <td>normal</td>\n",
       "      <td>192</td>\n",
       "      <td>No</td>\n",
       "      <td>0.7</td>\n",
       "      <td>upsloping</td>\n",
       "      <td>Number of major vessels: 0</td>\n",
       "      <td>fixed defect</td>\n",
       "      <td>Disease</td>\n",
       "    </tr>\n",
       "    <tr>\n",
       "      <th>31</th>\n",
       "      <td>50</td>\n",
       "      <td>Female</td>\n",
       "      <td>atypical angina</td>\n",
       "      <td>120</td>\n",
       "      <td>244</td>\n",
       "      <td>No</td>\n",
       "      <td>normal</td>\n",
       "      <td>162</td>\n",
       "      <td>No</td>\n",
       "      <td>1.1</td>\n",
       "      <td>upsloping</td>\n",
       "      <td>Number of major vessels: 0</td>\n",
       "      <td>fixed defect</td>\n",
       "      <td>Disease</td>\n",
       "    </tr>\n",
       "    <tr>\n",
       "      <th>43</th>\n",
       "      <td>46</td>\n",
       "      <td>Male</td>\n",
       "      <td>typical angina</td>\n",
       "      <td>120</td>\n",
       "      <td>249</td>\n",
       "      <td>No</td>\n",
       "      <td>probable or definite left ventricular hypertrophy</td>\n",
       "      <td>144</td>\n",
       "      <td>No</td>\n",
       "      <td>0.8</td>\n",
       "      <td>upsloping</td>\n",
       "      <td>Number of major vessels: 0</td>\n",
       "      <td>reversable defect</td>\n",
       "      <td>No disease</td>\n",
       "    </tr>\n",
       "    <tr>\n",
       "      <th>55</th>\n",
       "      <td>55</td>\n",
       "      <td>Male</td>\n",
       "      <td>typical angina</td>\n",
       "      <td>140</td>\n",
       "      <td>217</td>\n",
       "      <td>No</td>\n",
       "      <td>normal</td>\n",
       "      <td>111</td>\n",
       "      <td>Yes</td>\n",
       "      <td>5.6</td>\n",
       "      <td>downsloping</td>\n",
       "      <td>Number of major vessels: 0</td>\n",
       "      <td>reversable defect</td>\n",
       "      <td>No disease</td>\n",
       "    </tr>\n",
       "    <tr>\n",
       "      <th>61</th>\n",
       "      <td>66</td>\n",
       "      <td>Female</td>\n",
       "      <td>non-anginal pain</td>\n",
       "      <td>146</td>\n",
       "      <td>278</td>\n",
       "      <td>No</td>\n",
       "      <td>probable or definite left ventricular hypertrophy</td>\n",
       "      <td>152</td>\n",
       "      <td>No</td>\n",
       "      <td>0.0</td>\n",
       "      <td>flat</td>\n",
       "      <td>Number of major vessels: 1</td>\n",
       "      <td>fixed defect</td>\n",
       "      <td>Disease</td>\n",
       "    </tr>\n",
       "    <tr>\n",
       "      <th>...</th>\n",
       "      <td>...</td>\n",
       "      <td>...</td>\n",
       "      <td>...</td>\n",
       "      <td>...</td>\n",
       "      <td>...</td>\n",
       "      <td>...</td>\n",
       "      <td>...</td>\n",
       "      <td>...</td>\n",
       "      <td>...</td>\n",
       "      <td>...</td>\n",
       "      <td>...</td>\n",
       "      <td>...</td>\n",
       "      <td>...</td>\n",
       "      <td>...</td>\n",
       "    </tr>\n",
       "    <tr>\n",
       "      <th>1020</th>\n",
       "      <td>59</td>\n",
       "      <td>Male</td>\n",
       "      <td>atypical angina</td>\n",
       "      <td>140</td>\n",
       "      <td>221</td>\n",
       "      <td>No</td>\n",
       "      <td>normal</td>\n",
       "      <td>164</td>\n",
       "      <td>Yes</td>\n",
       "      <td>0.0</td>\n",
       "      <td>upsloping</td>\n",
       "      <td>Number of major vessels: 0</td>\n",
       "      <td>fixed defect</td>\n",
       "      <td>Disease</td>\n",
       "    </tr>\n",
       "    <tr>\n",
       "      <th>1021</th>\n",
       "      <td>60</td>\n",
       "      <td>Male</td>\n",
       "      <td>typical angina</td>\n",
       "      <td>125</td>\n",
       "      <td>258</td>\n",
       "      <td>No</td>\n",
       "      <td>probable or definite left ventricular hypertrophy</td>\n",
       "      <td>141</td>\n",
       "      <td>Yes</td>\n",
       "      <td>2.8</td>\n",
       "      <td>flat</td>\n",
       "      <td>Number of major vessels: 1</td>\n",
       "      <td>reversable defect</td>\n",
       "      <td>No disease</td>\n",
       "    </tr>\n",
       "    <tr>\n",
       "      <th>1022</th>\n",
       "      <td>47</td>\n",
       "      <td>Male</td>\n",
       "      <td>typical angina</td>\n",
       "      <td>110</td>\n",
       "      <td>275</td>\n",
       "      <td>No</td>\n",
       "      <td>probable or definite left ventricular hypertrophy</td>\n",
       "      <td>118</td>\n",
       "      <td>Yes</td>\n",
       "      <td>1.0</td>\n",
       "      <td>flat</td>\n",
       "      <td>Number of major vessels: 1</td>\n",
       "      <td>fixed defect</td>\n",
       "      <td>No disease</td>\n",
       "    </tr>\n",
       "    <tr>\n",
       "      <th>1023</th>\n",
       "      <td>50</td>\n",
       "      <td>Female</td>\n",
       "      <td>typical angina</td>\n",
       "      <td>110</td>\n",
       "      <td>254</td>\n",
       "      <td>No</td>\n",
       "      <td>probable or definite left ventricular hypertrophy</td>\n",
       "      <td>159</td>\n",
       "      <td>No</td>\n",
       "      <td>0.0</td>\n",
       "      <td>upsloping</td>\n",
       "      <td>Number of major vessels: 0</td>\n",
       "      <td>fixed defect</td>\n",
       "      <td>Disease</td>\n",
       "    </tr>\n",
       "    <tr>\n",
       "      <th>1024</th>\n",
       "      <td>54</td>\n",
       "      <td>Male</td>\n",
       "      <td>typical angina</td>\n",
       "      <td>120</td>\n",
       "      <td>188</td>\n",
       "      <td>No</td>\n",
       "      <td>normal</td>\n",
       "      <td>113</td>\n",
       "      <td>No</td>\n",
       "      <td>1.4</td>\n",
       "      <td>flat</td>\n",
       "      <td>Number of major vessels: 1</td>\n",
       "      <td>reversable defect</td>\n",
       "      <td>No disease</td>\n",
       "    </tr>\n",
       "  </tbody>\n",
       "</table>\n",
       "<p>723 rows × 14 columns</p>\n",
       "</div>"
      ],
      "text/plain": [
       "      age     sex                cp  trestbps  chol fbs  \\\n",
       "15     34  Female   atypical angina       118   210  No   \n",
       "31     50  Female   atypical angina       120   244  No   \n",
       "43     46    Male    typical angina       120   249  No   \n",
       "55     55    Male    typical angina       140   217  No   \n",
       "61     66  Female  non-anginal pain       146   278  No   \n",
       "...   ...     ...               ...       ...   ...  ..   \n",
       "1020   59    Male   atypical angina       140   221  No   \n",
       "1021   60    Male    typical angina       125   258  No   \n",
       "1022   47    Male    typical angina       110   275  No   \n",
       "1023   50  Female    typical angina       110   254  No   \n",
       "1024   54    Male    typical angina       120   188  No   \n",
       "\n",
       "                                                restecg  thalach exang  \\\n",
       "15                                               normal      192    No   \n",
       "31                                               normal      162    No   \n",
       "43    probable or definite left ventricular hypertrophy      144    No   \n",
       "55                                               normal      111   Yes   \n",
       "61    probable or definite left ventricular hypertrophy      152    No   \n",
       "...                                                 ...      ...   ...   \n",
       "1020                                             normal      164   Yes   \n",
       "1021  probable or definite left ventricular hypertrophy      141   Yes   \n",
       "1022  probable or definite left ventricular hypertrophy      118   Yes   \n",
       "1023  probable or definite left ventricular hypertrophy      159    No   \n",
       "1024                                             normal      113    No   \n",
       "\n",
       "      oldpeak        slope                          ca               thal  \\\n",
       "15        0.7    upsloping  Number of major vessels: 0       fixed defect   \n",
       "31        1.1    upsloping  Number of major vessels: 0       fixed defect   \n",
       "43        0.8    upsloping  Number of major vessels: 0  reversable defect   \n",
       "55        5.6  downsloping  Number of major vessels: 0  reversable defect   \n",
       "61        0.0         flat  Number of major vessels: 1       fixed defect   \n",
       "...       ...          ...                         ...                ...   \n",
       "1020      0.0    upsloping  Number of major vessels: 0       fixed defect   \n",
       "1021      2.8         flat  Number of major vessels: 1  reversable defect   \n",
       "1022      1.0         flat  Number of major vessels: 1       fixed defect   \n",
       "1023      0.0    upsloping  Number of major vessels: 0       fixed defect   \n",
       "1024      1.4         flat  Number of major vessels: 1  reversable defect   \n",
       "\n",
       "          target  \n",
       "15       Disease  \n",
       "31       Disease  \n",
       "43    No disease  \n",
       "55    No disease  \n",
       "61       Disease  \n",
       "...          ...  \n",
       "1020     Disease  \n",
       "1021  No disease  \n",
       "1022  No disease  \n",
       "1023     Disease  \n",
       "1024  No disease  \n",
       "\n",
       "[723 rows x 14 columns]"
      ]
     },
     "execution_count": 19,
     "metadata": {},
     "output_type": "execute_result"
    }
   ],
   "source": [
    "# Menampilkan baris data duplicate\n",
    "data[data.duplicated()]"
   ]
  },
  {
   "cell_type": "markdown",
   "id": "b22a975a-8aeb-466b-815a-c6e9d6b16610",
   "metadata": {
    "id": "b22a975a-8aeb-466b-815a-c6e9d6b16610"
   },
   "source": [
    "Berdasarkan output diatas, kamu perlu melakukan drop duplikat data agar tidak ada data yang duplikat dalam dataset."
   ]
  },
  {
   "cell_type": "code",
   "execution_count": 20,
   "id": "392878fe-f535-4885-a772-7f5a60deeff9",
   "metadata": {
    "colab": {
     "base_uri": "https://localhost:8080/"
    },
    "id": "392878fe-f535-4885-a772-7f5a60deeff9",
    "outputId": "1282eee5-36ad-4f8f-98cb-e7d0d91762d8"
   },
   "outputs": [
    {
     "data": {
      "text/plain": [
       "0"
      ]
     },
     "execution_count": 20,
     "metadata": {},
     "output_type": "execute_result"
    }
   ],
   "source": [
    "# Menghapus data duplikat\n",
    "data.drop_duplicates(keep='first',inplace=True)\n",
    "\n",
    "# Memeriksa ulang duplikat data\n",
    "data.duplicated().sum()"
   ]
  },
  {
   "cell_type": "markdown",
   "id": "8374c559",
   "metadata": {},
   "source": [
    "**Export Data**\n",
    "\n",
    "Data setelah dilakukan data cleaning seperti unexpected and missing value, duplicates value"
   ]
  },
  {
   "cell_type": "code",
   "execution_count": 31,
   "id": "023bf33f",
   "metadata": {},
   "outputs": [],
   "source": [
    "data.to_csv(r'Datasets/heartdisease_cleansed1.csv', index=False)"
   ]
  },
  {
   "cell_type": "code",
   "execution_count": 4,
   "id": "c5189ef3",
   "metadata": {},
   "outputs": [
    {
     "data": {
      "text/html": [
       "<div>\n",
       "<style scoped>\n",
       "    .dataframe tbody tr th:only-of-type {\n",
       "        vertical-align: middle;\n",
       "    }\n",
       "\n",
       "    .dataframe tbody tr th {\n",
       "        vertical-align: top;\n",
       "    }\n",
       "\n",
       "    .dataframe thead th {\n",
       "        text-align: right;\n",
       "    }\n",
       "</style>\n",
       "<table border=\"1\" class=\"dataframe\">\n",
       "  <thead>\n",
       "    <tr style=\"text-align: right;\">\n",
       "      <th></th>\n",
       "      <th>age</th>\n",
       "      <th>sex</th>\n",
       "      <th>cp</th>\n",
       "      <th>trestbps</th>\n",
       "      <th>chol</th>\n",
       "      <th>fbs</th>\n",
       "      <th>restecg</th>\n",
       "      <th>thalach</th>\n",
       "      <th>exang</th>\n",
       "      <th>oldpeak</th>\n",
       "      <th>slope</th>\n",
       "      <th>ca</th>\n",
       "      <th>thal</th>\n",
       "      <th>target</th>\n",
       "    </tr>\n",
       "  </thead>\n",
       "  <tbody>\n",
       "    <tr>\n",
       "      <th>0</th>\n",
       "      <td>52</td>\n",
       "      <td>Male</td>\n",
       "      <td>typical angina</td>\n",
       "      <td>125</td>\n",
       "      <td>212</td>\n",
       "      <td>No</td>\n",
       "      <td>normal</td>\n",
       "      <td>168</td>\n",
       "      <td>No</td>\n",
       "      <td>1.0</td>\n",
       "      <td>upsloping</td>\n",
       "      <td>Number of major vessels: 2</td>\n",
       "      <td>reversable defect</td>\n",
       "      <td>No disease</td>\n",
       "    </tr>\n",
       "    <tr>\n",
       "      <th>1</th>\n",
       "      <td>53</td>\n",
       "      <td>Male</td>\n",
       "      <td>typical angina</td>\n",
       "      <td>140</td>\n",
       "      <td>203</td>\n",
       "      <td>Yes</td>\n",
       "      <td>probable or definite left ventricular hypertrophy</td>\n",
       "      <td>155</td>\n",
       "      <td>Yes</td>\n",
       "      <td>3.1</td>\n",
       "      <td>downsloping</td>\n",
       "      <td>Number of major vessels: 0</td>\n",
       "      <td>reversable defect</td>\n",
       "      <td>No disease</td>\n",
       "    </tr>\n",
       "    <tr>\n",
       "      <th>2</th>\n",
       "      <td>70</td>\n",
       "      <td>Male</td>\n",
       "      <td>typical angina</td>\n",
       "      <td>145</td>\n",
       "      <td>174</td>\n",
       "      <td>No</td>\n",
       "      <td>normal</td>\n",
       "      <td>125</td>\n",
       "      <td>Yes</td>\n",
       "      <td>2.6</td>\n",
       "      <td>downsloping</td>\n",
       "      <td>Number of major vessels: 0</td>\n",
       "      <td>reversable defect</td>\n",
       "      <td>No disease</td>\n",
       "    </tr>\n",
       "    <tr>\n",
       "      <th>3</th>\n",
       "      <td>61</td>\n",
       "      <td>Male</td>\n",
       "      <td>typical angina</td>\n",
       "      <td>148</td>\n",
       "      <td>203</td>\n",
       "      <td>No</td>\n",
       "      <td>normal</td>\n",
       "      <td>161</td>\n",
       "      <td>No</td>\n",
       "      <td>0.0</td>\n",
       "      <td>upsloping</td>\n",
       "      <td>Number of major vessels: 1</td>\n",
       "      <td>reversable defect</td>\n",
       "      <td>No disease</td>\n",
       "    </tr>\n",
       "    <tr>\n",
       "      <th>4</th>\n",
       "      <td>62</td>\n",
       "      <td>Female</td>\n",
       "      <td>typical angina</td>\n",
       "      <td>138</td>\n",
       "      <td>294</td>\n",
       "      <td>Yes</td>\n",
       "      <td>normal</td>\n",
       "      <td>106</td>\n",
       "      <td>No</td>\n",
       "      <td>1.9</td>\n",
       "      <td>flat</td>\n",
       "      <td>Number of major vessels: 3</td>\n",
       "      <td>fixed defect</td>\n",
       "      <td>No disease</td>\n",
       "    </tr>\n",
       "    <tr>\n",
       "      <th>...</th>\n",
       "      <td>...</td>\n",
       "      <td>...</td>\n",
       "      <td>...</td>\n",
       "      <td>...</td>\n",
       "      <td>...</td>\n",
       "      <td>...</td>\n",
       "      <td>...</td>\n",
       "      <td>...</td>\n",
       "      <td>...</td>\n",
       "      <td>...</td>\n",
       "      <td>...</td>\n",
       "      <td>...</td>\n",
       "      <td>...</td>\n",
       "      <td>...</td>\n",
       "    </tr>\n",
       "    <tr>\n",
       "      <th>297</th>\n",
       "      <td>68</td>\n",
       "      <td>Female</td>\n",
       "      <td>non-anginal pain</td>\n",
       "      <td>120</td>\n",
       "      <td>211</td>\n",
       "      <td>No</td>\n",
       "      <td>probable or definite left ventricular hypertrophy</td>\n",
       "      <td>115</td>\n",
       "      <td>No</td>\n",
       "      <td>1.5</td>\n",
       "      <td>flat</td>\n",
       "      <td>Number of major vessels: 0</td>\n",
       "      <td>fixed defect</td>\n",
       "      <td>Disease</td>\n",
       "    </tr>\n",
       "    <tr>\n",
       "      <th>298</th>\n",
       "      <td>44</td>\n",
       "      <td>Female</td>\n",
       "      <td>non-anginal pain</td>\n",
       "      <td>108</td>\n",
       "      <td>141</td>\n",
       "      <td>No</td>\n",
       "      <td>normal</td>\n",
       "      <td>175</td>\n",
       "      <td>No</td>\n",
       "      <td>0.6</td>\n",
       "      <td>flat</td>\n",
       "      <td>Number of major vessels: 0</td>\n",
       "      <td>fixed defect</td>\n",
       "      <td>Disease</td>\n",
       "    </tr>\n",
       "    <tr>\n",
       "      <th>299</th>\n",
       "      <td>52</td>\n",
       "      <td>Male</td>\n",
       "      <td>typical angina</td>\n",
       "      <td>128</td>\n",
       "      <td>255</td>\n",
       "      <td>No</td>\n",
       "      <td>normal</td>\n",
       "      <td>161</td>\n",
       "      <td>Yes</td>\n",
       "      <td>0.0</td>\n",
       "      <td>upsloping</td>\n",
       "      <td>Number of major vessels: 1</td>\n",
       "      <td>reversable defect</td>\n",
       "      <td>No disease</td>\n",
       "    </tr>\n",
       "    <tr>\n",
       "      <th>300</th>\n",
       "      <td>59</td>\n",
       "      <td>Male</td>\n",
       "      <td>asymtomatic</td>\n",
       "      <td>160</td>\n",
       "      <td>273</td>\n",
       "      <td>No</td>\n",
       "      <td>probable or definite left ventricular hypertrophy</td>\n",
       "      <td>125</td>\n",
       "      <td>No</td>\n",
       "      <td>0.0</td>\n",
       "      <td>upsloping</td>\n",
       "      <td>Number of major vessels: 0</td>\n",
       "      <td>fixed defect</td>\n",
       "      <td>No disease</td>\n",
       "    </tr>\n",
       "    <tr>\n",
       "      <th>301</th>\n",
       "      <td>54</td>\n",
       "      <td>Male</td>\n",
       "      <td>typical angina</td>\n",
       "      <td>120</td>\n",
       "      <td>188</td>\n",
       "      <td>No</td>\n",
       "      <td>normal</td>\n",
       "      <td>113</td>\n",
       "      <td>No</td>\n",
       "      <td>1.4</td>\n",
       "      <td>flat</td>\n",
       "      <td>Number of major vessels: 1</td>\n",
       "      <td>reversable defect</td>\n",
       "      <td>No disease</td>\n",
       "    </tr>\n",
       "  </tbody>\n",
       "</table>\n",
       "<p>302 rows × 14 columns</p>\n",
       "</div>"
      ],
      "text/plain": [
       "     age     sex                cp  trestbps  chol  fbs  \\\n",
       "0     52    Male    typical angina       125   212   No   \n",
       "1     53    Male    typical angina       140   203  Yes   \n",
       "2     70    Male    typical angina       145   174   No   \n",
       "3     61    Male    typical angina       148   203   No   \n",
       "4     62  Female    typical angina       138   294  Yes   \n",
       "..   ...     ...               ...       ...   ...  ...   \n",
       "297   68  Female  non-anginal pain       120   211   No   \n",
       "298   44  Female  non-anginal pain       108   141   No   \n",
       "299   52    Male    typical angina       128   255   No   \n",
       "300   59    Male       asymtomatic       160   273   No   \n",
       "301   54    Male    typical angina       120   188   No   \n",
       "\n",
       "                                               restecg  thalach exang  \\\n",
       "0                                               normal      168    No   \n",
       "1    probable or definite left ventricular hypertrophy      155   Yes   \n",
       "2                                               normal      125   Yes   \n",
       "3                                               normal      161    No   \n",
       "4                                               normal      106    No   \n",
       "..                                                 ...      ...   ...   \n",
       "297  probable or definite left ventricular hypertrophy      115    No   \n",
       "298                                             normal      175    No   \n",
       "299                                             normal      161   Yes   \n",
       "300  probable or definite left ventricular hypertrophy      125    No   \n",
       "301                                             normal      113    No   \n",
       "\n",
       "     oldpeak        slope                          ca               thal  \\\n",
       "0        1.0    upsloping  Number of major vessels: 2  reversable defect   \n",
       "1        3.1  downsloping  Number of major vessels: 0  reversable defect   \n",
       "2        2.6  downsloping  Number of major vessels: 0  reversable defect   \n",
       "3        0.0    upsloping  Number of major vessels: 1  reversable defect   \n",
       "4        1.9         flat  Number of major vessels: 3       fixed defect   \n",
       "..       ...          ...                         ...                ...   \n",
       "297      1.5         flat  Number of major vessels: 0       fixed defect   \n",
       "298      0.6         flat  Number of major vessels: 0       fixed defect   \n",
       "299      0.0    upsloping  Number of major vessels: 1  reversable defect   \n",
       "300      0.0    upsloping  Number of major vessels: 0       fixed defect   \n",
       "301      1.4         flat  Number of major vessels: 1  reversable defect   \n",
       "\n",
       "         target  \n",
       "0    No disease  \n",
       "1    No disease  \n",
       "2    No disease  \n",
       "3    No disease  \n",
       "4    No disease  \n",
       "..          ...  \n",
       "297     Disease  \n",
       "298     Disease  \n",
       "299  No disease  \n",
       "300  No disease  \n",
       "301  No disease  \n",
       "\n",
       "[302 rows x 14 columns]"
      ]
     },
     "execution_count": 4,
     "metadata": {},
     "output_type": "execute_result"
    }
   ],
   "source": [
    "data_cleansed1 = pd.read_csv(r'Datasets/heartdisease_cleansed1.csv')\n",
    "data_cleansed1"
   ]
  },
  {
   "cell_type": "markdown",
   "id": "DmTW5wxHgQL2",
   "metadata": {
    "id": "DmTW5wxHgQL2"
   },
   "source": [
    "### Handling Outliers\n",
    "\n",
    "Selanjutnya kita akan menampilkan outliers dan menghapus data yang outlier."
   ]
  },
  {
   "cell_type": "code",
   "execution_count": 38,
   "id": "cc431952-691e-4b2c-bd11-302cc78db40a",
   "metadata": {
    "colab": {
     "base_uri": "https://localhost:8080/",
     "height": 371
    },
    "id": "cc431952-691e-4b2c-bd11-302cc78db40a",
    "outputId": "a2819a97-e116-433d-8c7b-0b9ebcd03a50"
   },
   "outputs": [
    {
     "data": {
      "image/png": "[encoded data removed]",
      "text/plain": [
       "<Figure size 1440x720 with 14 Axes>"
      ]
     },
     "metadata": {
      "needs_background": "light"
     },
     "output_type": "display_data"
    }
   ],
   "source": [
    "#Menampilkan boxplot untuk melihat outliers data numerik\n",
    "data.plot(kind = 'box', subplots = True, layout = (2,7), sharex = False, sharey = False, figsize = (20, 10), color = 'k')\n",
    "plt.show()"
   ]
  },
  {
   "cell_type": "code",
   "execution_count": 40,
   "id": "252aec91-21da-4893-bc99-38f2066db5c0",
   "metadata": {
    "colab": {
     "base_uri": "https://localhost:8080/",
     "height": 449
    },
    "id": "252aec91-21da-4893-bc99-38f2066db5c0",
    "outputId": "76ac4887-3284-4dc6-b35c-ed1778dd1c8d"
   },
   "outputs": [
    {
     "data": {
      "image/png": "[encoded data removed]",
      "text/plain": [
       "<Figure size 432x288 with 1 Axes>"
      ]
     },
     "metadata": {
      "needs_background": "light"
     },
     "output_type": "display_data"
    }
   ],
   "source": [
    "# Menampilkan data berdasarkan target untuk feature chol\n",
    "sns.boxplot(x=data['target'],y=data['chol'],data=data)\n",
    "plt.show()"
   ]
  },
  {
   "cell_type": "markdown",
   "id": "55a7f068-fc65-474a-9a4d-b8aa747f988a",
   "metadata": {
    "id": "55a7f068-fc65-474a-9a4d-b8aa747f988a"
   },
   "source": [
    "Data yang outliers terletak pada data non-categorical atau data continuous yaitu: 'age', 'trestbps', 'chol', 'thalach', dan 'oldpeak'"
   ]
  },
  {
   "cell_type": "code",
   "execution_count": 41,
   "id": "a36d7dd3-ddbf-4e8d-a023-4bcc39b7461c",
   "metadata": {
    "colab": {
     "base_uri": "https://localhost:8080/"
    },
    "id": "a36d7dd3-ddbf-4e8d-a023-4bcc39b7461c",
    "outputId": "75bafe95-ace0-4588-edcc-533d9582d8d4"
   },
   "outputs": [
    {
     "name": "stdout",
     "output_type": "stream",
     "text": [
      "For the feature age, Num of Outliers is 0\n",
      "For the feature chol, Num of Outliers is 5\n",
      "For the feature thalach, Num of Outliers is 1\n",
      "For the feature oldpeak, Num of Outliers is 5\n"
     ]
    }
   ],
   "source": [
    "#Mencari tahu data yang outliers dengan mendefinisikan fungsi\n",
    "continous_features = ['age', 'chol', 'thalach', 'oldpeak']\n",
    "def outliers(data_out, drop=False):\n",
    "    for each_feature in data_out.columns:\n",
    "        if each_feature in continous_features:  # Memeriksa apakah kolom adalah data kontinu\n",
    "            feature_data = data_out[each_feature]\n",
    "            Q1 = np.percentile(feature_data, 25.)\n",
    "            Q3 = np.percentile(feature_data, 75.)\n",
    "            IQR = Q3 - Q1\n",
    "            outlier_step = IQR * 1.5\n",
    "            outliers = feature_data[~((feature_data >= Q1 - outlier_step) & (feature_data <= Q3 + outlier_step))].index.tolist()\n",
    "            if not drop:\n",
    "                print('For the feature {}, Num of Outliers is {}'.format(each_feature, len(outliers)))\n",
    "            if drop:\n",
    "                data_out.drop(outliers, inplace=True, errors='ignore')\n",
    "                print('Outliers from {} feature removed'.format(each_feature))\n",
    "\n",
    "outliers(data)"
   ]
  },
  {
   "cell_type": "code",
   "execution_count": 42,
   "id": "899ac0b9-f074-4651-80bb-a873c4404d18",
   "metadata": {
    "colab": {
     "base_uri": "https://localhost:8080/"
    },
    "id": "899ac0b9-f074-4651-80bb-a873c4404d18",
    "outputId": "91116a98-7dd7-4fe1-92a9-0b9f57bfecde"
   },
   "outputs": [
    {
     "name": "stdout",
     "output_type": "stream",
     "text": [
      "Outliers from age feature removed\n",
      "Outliers from chol feature removed\n",
      "Outliers from thalach feature removed\n",
      "Outliers from oldpeak feature removed\n"
     ]
    }
   ],
   "source": [
    "# Menghapus outlier dengan fungsi sebelumnya\n",
    "outliers(data,drop=True)"
   ]
  },
  {
   "cell_type": "markdown",
   "id": "9676d575-8e63-4d6d-bd2f-297064eca567",
   "metadata": {
    "id": "9676d575-8e63-4d6d-bd2f-297064eca567"
   },
   "source": [
    "Melihat informasi dari kategori dari data kategorikal."
   ]
  },
  {
   "cell_type": "code",
   "execution_count": 43,
   "id": "f56a9b06-509a-4698-a889-3b18f2001b51",
   "metadata": {
    "colab": {
     "base_uri": "https://localhost:8080/",
     "height": 472
    },
    "id": "f56a9b06-509a-4698-a889-3b18f2001b51",
    "outputId": "79a2e766-4812-43eb-9554-d49f36cc78ee"
   },
   "outputs": [
    {
     "data": {
      "image/png": "[encoded data removed]",
      "text/plain": [
       "<Figure size 432x288 with 1 Axes>"
      ]
     },
     "metadata": {
      "needs_background": "light"
     },
     "output_type": "display_data"
    }
   ],
   "source": [
    "# Jumlah kategori sex pada dataset\n",
    "data['sex'].hist().plot(kind='bar')\n",
    "# data['sex'].value_counts().plot(kind='bar')\n",
    "plt.title('Distribusi Gender')\n",
    "plt.xlabel('Gender')\n",
    "plt.ylabel('Jumlah')\n",
    "plt.show()"
   ]
  },
  {
   "cell_type": "code",
   "execution_count": 44,
   "id": "92084047-d828-4618-9823-59f5540b6ec7",
   "metadata": {
    "colab": {
     "base_uri": "https://localhost:8080/",
     "height": 472
    },
    "id": "92084047-d828-4618-9823-59f5540b6ec7",
    "outputId": "853caa50-6818-4543-e630-365c6009cd6c"
   },
   "outputs": [
    {
     "data": {
      "image/png": "[encoded data removed]",
      "text/plain": [
       "<Figure size 432x288 with 1 Axes>"
      ]
     },
     "metadata": {
      "needs_background": "light"
     },
     "output_type": "display_data"
    }
   ],
   "source": [
    "# Jumlah kategori age pada dataset\n",
    "data['age'].hist().plot(kind='bar')\n",
    "plt.title('Distribusi Usia Pasien')\n",
    "plt.xlabel('Age')\n",
    "plt.ylabel('jumlah')\n",
    "plt.show()"
   ]
  },
  {
   "cell_type": "code",
   "execution_count": 45,
   "id": "7e00e392-86a4-49de-a649-83db54f0a99e",
   "metadata": {
    "colab": {
     "base_uri": "https://localhost:8080/",
     "height": 452
    },
    "id": "7e00e392-86a4-49de-a649-83db54f0a99e",
    "outputId": "c27399a9-7ba5-45e5-bd69-a49e0438ba11"
   },
   "outputs": [
    {
     "data": {
      "image/png": "[encoded data removed]",
      "text/plain": [
       "<Figure size 432x288 with 1 Axes>"
      ]
     },
     "metadata": {
      "needs_background": "light"
     },
     "output_type": "display_data"
    }
   ],
   "source": [
    "# Jumlah kategori cp pada dataset\n",
    "data['cp'].hist().plot(kind='bar')\n",
    "plt.title('Distribusi Cholesterol')\n",
    "plt.show()"
   ]
  },
  {
   "cell_type": "markdown",
   "id": "eb7efbcb-a14d-4c81-b668-d7da8a902efa",
   "metadata": {
    "id": "eb7efbcb-a14d-4c81-b668-d7da8a902efa"
   },
   "source": [
    "Selanjutnya kita akan melakukan pengecekan data, apakah target imbalance?"
   ]
  },
  {
   "cell_type": "code",
   "execution_count": 46,
   "id": "b0f45291-8707-4763-8a1e-417e4eb81a8c",
   "metadata": {
    "colab": {
     "base_uri": "https://localhost:8080/",
     "height": 449
    },
    "id": "b0f45291-8707-4763-8a1e-417e4eb81a8c",
    "outputId": "3ae6a12d-c3c3-4473-aab9-a4664928eaec"
   },
   "outputs": [
    {
     "data": {
      "image/png": "[encoded data removed]",
      "text/plain": [
       "<Figure size 432x288 with 1 Axes>"
      ]
     },
     "metadata": {
      "needs_background": "light"
     },
     "output_type": "display_data"
    }
   ],
   "source": [
    "# Memeriksa data imbalance\n",
    "ax = sns.countplot(x=data['target'],data=data)\n",
    "for label in ax.containers:\n",
    "    ax.bar_label(label)\n",
    "sns.despine()\n",
    "plt.show()"
   ]
  },
  {
   "cell_type": "markdown",
   "id": "6e69e385-4926-48a0-b363-57cbe85aa867",
   "metadata": {
    "id": "6e69e385-4926-48a0-b363-57cbe85aa867"
   },
   "source": [
    "Dapat dilihat pada output diatas data cukup seimbang (balanced), karena tidak terdapat perbedaan yang signifikan dimana terdiagnosa **disease** adalah 55.8% (158 cases), dan lain halnya untuk **no disease** adalah kurang dari 45%."
   ]
  },
  {
   "cell_type": "markdown",
   "id": "bb40b5a9",
   "metadata": {},
   "source": [
    "**Export Data**\n",
    "\n",
    "Data setelah drop outliers"
   ]
  },
  {
   "cell_type": "code",
   "execution_count": 49,
   "id": "55e92ce3",
   "metadata": {},
   "outputs": [],
   "source": [
    "data.to_csv(r'Datasets/heartdisease_cleansed.csv', index=False)"
   ]
  },
  {
   "cell_type": "markdown",
   "id": "bf836b78-6b55-476e-962f-9acd22a6f95b",
   "metadata": {
    "id": "bf836b78-6b55-476e-962f-9acd22a6f95b"
   },
   "source": [
    "### Descriptive Statistics\n",
    "\n",
    "Periksa statistik deskriptif dari kumpulan data (rata-rata, distribusi, dll)"
   ]
  },
  {
   "cell_type": "code",
   "execution_count": 47,
   "id": "247cb267-45a0-42a0-8d0f-fb8a7e28765f",
   "metadata": {
    "colab": {
     "base_uri": "https://localhost:8080/",
     "height": 300
    },
    "id": "247cb267-45a0-42a0-8d0f-fb8a7e28765f",
    "outputId": "b19ce0cb-b50f-4c3c-8d1b-9a3b14e2aa50"
   },
   "outputs": [
    {
     "data": {
      "text/html": [
       "<div>\n",
       "<style scoped>\n",
       "    .dataframe tbody tr th:only-of-type {\n",
       "        vertical-align: middle;\n",
       "    }\n",
       "\n",
       "    .dataframe tbody tr th {\n",
       "        vertical-align: top;\n",
       "    }\n",
       "\n",
       "    .dataframe thead th {\n",
       "        text-align: right;\n",
       "    }\n",
       "</style>\n",
       "<table border=\"1\" class=\"dataframe\">\n",
       "  <thead>\n",
       "    <tr style=\"text-align: right;\">\n",
       "      <th></th>\n",
       "      <th>age</th>\n",
       "      <th>trestbps</th>\n",
       "      <th>chol</th>\n",
       "      <th>thalach</th>\n",
       "      <th>oldpeak</th>\n",
       "    </tr>\n",
       "  </thead>\n",
       "  <tbody>\n",
       "    <tr>\n",
       "      <th>count</th>\n",
       "      <td>302.00000</td>\n",
       "      <td>302.000000</td>\n",
       "      <td>302.000000</td>\n",
       "      <td>302.000000</td>\n",
       "      <td>302.000000</td>\n",
       "    </tr>\n",
       "    <tr>\n",
       "      <th>mean</th>\n",
       "      <td>54.42053</td>\n",
       "      <td>131.602649</td>\n",
       "      <td>246.500000</td>\n",
       "      <td>149.569536</td>\n",
       "      <td>1.043046</td>\n",
       "    </tr>\n",
       "    <tr>\n",
       "      <th>std</th>\n",
       "      <td>9.04797</td>\n",
       "      <td>17.563394</td>\n",
       "      <td>51.753489</td>\n",
       "      <td>22.903527</td>\n",
       "      <td>1.161452</td>\n",
       "    </tr>\n",
       "    <tr>\n",
       "      <th>min</th>\n",
       "      <td>29.00000</td>\n",
       "      <td>94.000000</td>\n",
       "      <td>126.000000</td>\n",
       "      <td>71.000000</td>\n",
       "      <td>0.000000</td>\n",
       "    </tr>\n",
       "    <tr>\n",
       "      <th>25%</th>\n",
       "      <td>48.00000</td>\n",
       "      <td>120.000000</td>\n",
       "      <td>211.000000</td>\n",
       "      <td>133.250000</td>\n",
       "      <td>0.000000</td>\n",
       "    </tr>\n",
       "    <tr>\n",
       "      <th>50%</th>\n",
       "      <td>55.50000</td>\n",
       "      <td>130.000000</td>\n",
       "      <td>240.500000</td>\n",
       "      <td>152.500000</td>\n",
       "      <td>0.800000</td>\n",
       "    </tr>\n",
       "    <tr>\n",
       "      <th>75%</th>\n",
       "      <td>61.00000</td>\n",
       "      <td>140.000000</td>\n",
       "      <td>274.750000</td>\n",
       "      <td>166.000000</td>\n",
       "      <td>1.600000</td>\n",
       "    </tr>\n",
       "    <tr>\n",
       "      <th>max</th>\n",
       "      <td>77.00000</td>\n",
       "      <td>200.000000</td>\n",
       "      <td>564.000000</td>\n",
       "      <td>202.000000</td>\n",
       "      <td>6.200000</td>\n",
       "    </tr>\n",
       "  </tbody>\n",
       "</table>\n",
       "</div>"
      ],
      "text/plain": [
       "             age    trestbps        chol     thalach     oldpeak\n",
       "count  302.00000  302.000000  302.000000  302.000000  302.000000\n",
       "mean    54.42053  131.602649  246.500000  149.569536    1.043046\n",
       "std      9.04797   17.563394   51.753489   22.903527    1.161452\n",
       "min     29.00000   94.000000  126.000000   71.000000    0.000000\n",
       "25%     48.00000  120.000000  211.000000  133.250000    0.000000\n",
       "50%     55.50000  130.000000  240.500000  152.500000    0.800000\n",
       "75%     61.00000  140.000000  274.750000  166.000000    1.600000\n",
       "max     77.00000  200.000000  564.000000  202.000000    6.200000"
      ]
     },
     "execution_count": 47,
     "metadata": {},
     "output_type": "execute_result"
    }
   ],
   "source": [
    "# Melihat statistik deskriptif dari data\n",
    "data_cleansed1.describe()"
   ]
  },
  {
   "cell_type": "markdown",
   "id": "d19f8e82-890a-43c4-97bd-697f9b14d29e",
   "metadata": {
    "id": "d19f8e82-890a-43c4-97bd-697f9b14d29e"
   },
   "source": [
    "Dari kumpulan data yang diberikan, dapat dilihat bahwa terdapat 302 entri dan 6 kolom. Berikut adalah statistik deskriptif dari setiap variabel:\n",
    "\n",
    "1. age: umur pasien, dengan rata-rata (mean) 54.42 tahun dan rentang antara 29 hingga 77 tahun.\n",
    "2. trestbps: tekanan darah saat istirahat (resting blood pressure) dalam mmHg, dengan rata-rata 131.6 dan rentang antara 94 hingga 200.\n",
    "3. chol: serum kolesterol dalam mg/dl, dengan rata-rata 246.5 dan rentang antara 126 hingga 564.\n",
    "4. thalach: detak jantung maksimal yang dicapai selama tes olahraga, dengan rata-rata 149.57 dan rentang antara 71 hingga 202.\n",
    "5. oldpeak: depresi ST (ST depression) relatif terhadap istirahat yang diinduksi oleh olahraga, dengan rata-rata 1.043 dan rentang antara 0 hingga 6.2.\n",
    "6. target: variabel target yang menunjukkan keberadaan atau tidaknya penyakit jantung, dengan nilai 0 menunjukkan tidak adanya penyakit dan nilai 1 menunjukkan adanya penyakit.\n",
    "\n",
    "Selanjutnya kita melihat distribusi data countinous."
   ]
  },
  {
   "cell_type": "code",
   "execution_count": 32,
   "id": "44b3de14",
   "metadata": {
    "colab": {
     "base_uri": "https://localhost:8080/",
     "height": 530
    },
    "id": "542c0683-639d-4fd6-8d43-a254c9cd6ba8",
    "outputId": "5e5152b2-bcae-439b-c90b-09c78e8c565d"
   },
   "outputs": [
    {
     "data": {
      "image/png": "[encoded data removed]",
      "text/plain": [
       "<Figure size 1152x576 with 5 Axes>"
      ]
     },
     "metadata": {
      "needs_background": "light"
     },
     "output_type": "display_data"
    }
   ],
   "source": [
    "# Memvisualisasikan distribusi variabel numerical\n",
    "plt.figure(figsize=(16,8))\n",
    "for index,column in enumerate(numerical_col):\n",
    "    plt.subplot(2,3,index+1)\n",
    "    sns.histplot(data=numerical_col,x=column,kde=True)\n",
    "plt.suptitle('Distribusi Variabel Numeric')\n",
    "plt.tight_layout(pad = 1.0)\n",
    "plt.show()"
   ]
  },
  {
   "cell_type": "code",
   "execution_count": 38,
   "id": "08bc4214-80c7-44a9-bb0b-3c2c7f854ee2",
   "metadata": {
    "colab": {
     "base_uri": "https://localhost:8080/",
     "height": 824
    },
    "id": "08bc4214-80c7-44a9-bb0b-3c2c7f854ee2",
    "outputId": "664ee88a-c9b6-4ae7-b981-bde5a0dd43a1"
   },
   "outputs": [
    {
     "data": {
      "image/png": "[encoded data removed]",
      "text/plain": [
       "<Figure size 1728x1440 with 9 Axes>"
      ]
     },
     "metadata": {
      "needs_background": "light"
     },
     "output_type": "display_data"
    }
   ],
   "source": [
    "# Memvisualisasikan distribusi variabel kategorikal\n",
    "plt.figure(figsize=(24,20))\n",
    "for index, column in enumerate(categorical_col):\n",
    "    plt.subplot(4, 3, index+1)\n",
    "    sns.countplot(data=categorical_col,x=column, hue='target', palette='magma')\n",
    "    plt.xlabel(column.upper(),fontsize=14)\n",
    "    plt.ylabel(\"count\", fontsize=14)\n",
    "plt.suptitle('Distribusi Variabel Kategorik')\n",
    "plt.tight_layout(pad = 2.0)\n",
    "plt.show()"
   ]
  },
  {
   "cell_type": "markdown",
   "id": "defb665a-e255-4f97-9449-e16f51928b29",
   "metadata": {
    "id": "defb665a-e255-4f97-9449-e16f51928b29"
   },
   "source": [
    "Melihat korelasi antar feature."
   ]
  },
  {
   "cell_type": "code",
   "execution_count": 53,
   "id": "d999a26f-7fd7-4a8c-87af-6bde1191f792",
   "metadata": {
    "colab": {
     "base_uri": "https://localhost:8080/",
     "height": 585
    },
    "id": "d999a26f-7fd7-4a8c-87af-6bde1191f792",
    "outputId": "82e82564-b802-4858-b063-a962a6c04675"
   },
   "outputs": [
    {
     "data": {
      "image/png": "[encoded data removed]",
      "text/plain": [
       "<Figure size 576x432 with 1 Axes>"
      ]
     },
     "metadata": {
      "needs_background": "light"
     },
     "output_type": "display_data"
    }
   ],
   "source": [
    "# melihat korelasi tingkat depresi dan detak jantung maksimum\n",
    "plt.figure(figsize = (8,6))\n",
    "sns.regplot(x=data['oldpeak'],y=data['thalach'], scatter_kws = {'color':'blue'}, line_kws = {'color':'purple'})\n",
    "plt.title('Sebaran Data Pasien Berdasarkan\\nTingkat Stres dan Detak Jantung Maksimum')\n",
    "plt.show()"
   ]
  },
  {
   "cell_type": "code",
   "execution_count": 54,
   "id": "dcc5ed9b-3ae4-4706-a944-bb5791e3cef5",
   "metadata": {
    "colab": {
     "base_uri": "https://localhost:8080/",
     "height": 585
    },
    "id": "dcc5ed9b-3ae4-4706-a944-bb5791e3cef5",
    "outputId": "4386ee17-0b7c-4b95-da3f-b54e0c43413d"
   },
   "outputs": [
    {
     "data": {
      "image/png": "[encoded data removed]",
      "text/plain": [
       "<Figure size 576x432 with 1 Axes>"
      ]
     },
     "metadata": {
      "needs_background": "light"
     },
     "output_type": "display_data"
    }
   ],
   "source": [
    "# melihat korelasi tingkat depresi dan tekanan darah\n",
    "plt.figure(figsize = (8,6))\n",
    "sns.regplot(x=data['oldpeak'],y=data['trestbps'], scatter_kws = {'color':'blue'}, line_kws = {'color':'purple'})\n",
    "plt.title('Sebaran Data Pasien Berdasarkan\\nTingkat Stres dan Tekanan Darah')\n",
    "plt.show()"
   ]
  },
  {
   "cell_type": "markdown",
   "id": "fccb091f-61b2-4dc7-af79-5dd4dd84930d",
   "metadata": {
    "id": "fccb091f-61b2-4dc7-af79-5dd4dd84930d"
   },
   "source": [
    "Simpulkan dari grafik yang kamu dapatkan?"
   ]
  },
  {
   "cell_type": "code",
   "execution_count": 44,
   "id": "687952b9-a773-4eaf-a560-6d7ba87f45af",
   "metadata": {
    "id": "687952b9-a773-4eaf-a560-6d7ba87f45af"
   },
   "outputs": [
    {
     "data": {
      "text/html": [
       "<div>\n",
       "<style scoped>\n",
       "    .dataframe tbody tr th:only-of-type {\n",
       "        vertical-align: middle;\n",
       "    }\n",
       "\n",
       "    .dataframe tbody tr th {\n",
       "        vertical-align: top;\n",
       "    }\n",
       "\n",
       "    .dataframe thead th {\n",
       "        text-align: right;\n",
       "    }\n",
       "</style>\n",
       "<table border=\"1\" class=\"dataframe\">\n",
       "  <thead>\n",
       "    <tr style=\"text-align: right;\">\n",
       "      <th></th>\n",
       "      <th>age</th>\n",
       "      <th>sex</th>\n",
       "      <th>cp</th>\n",
       "      <th>trestbps</th>\n",
       "      <th>chol</th>\n",
       "      <th>fbs</th>\n",
       "      <th>restecg</th>\n",
       "      <th>thalach</th>\n",
       "      <th>exang</th>\n",
       "      <th>oldpeak</th>\n",
       "      <th>slope</th>\n",
       "      <th>ca</th>\n",
       "      <th>thal</th>\n",
       "      <th>target</th>\n",
       "    </tr>\n",
       "  </thead>\n",
       "  <tbody>\n",
       "    <tr>\n",
       "      <th>0</th>\n",
       "      <td>52</td>\n",
       "      <td>Male</td>\n",
       "      <td>typical angina</td>\n",
       "      <td>125</td>\n",
       "      <td>212</td>\n",
       "      <td>No</td>\n",
       "      <td>normal</td>\n",
       "      <td>168</td>\n",
       "      <td>No</td>\n",
       "      <td>1.0</td>\n",
       "      <td>upsloping</td>\n",
       "      <td>Number of major vessels: 2</td>\n",
       "      <td>reversable defect</td>\n",
       "      <td>No disease</td>\n",
       "    </tr>\n",
       "    <tr>\n",
       "      <th>1</th>\n",
       "      <td>53</td>\n",
       "      <td>Male</td>\n",
       "      <td>typical angina</td>\n",
       "      <td>140</td>\n",
       "      <td>203</td>\n",
       "      <td>Yes</td>\n",
       "      <td>probable or definite left ventricular hypertrophy</td>\n",
       "      <td>155</td>\n",
       "      <td>Yes</td>\n",
       "      <td>3.1</td>\n",
       "      <td>downsloping</td>\n",
       "      <td>Number of major vessels: 0</td>\n",
       "      <td>reversable defect</td>\n",
       "      <td>No disease</td>\n",
       "    </tr>\n",
       "    <tr>\n",
       "      <th>2</th>\n",
       "      <td>70</td>\n",
       "      <td>Male</td>\n",
       "      <td>typical angina</td>\n",
       "      <td>145</td>\n",
       "      <td>174</td>\n",
       "      <td>No</td>\n",
       "      <td>normal</td>\n",
       "      <td>125</td>\n",
       "      <td>Yes</td>\n",
       "      <td>2.6</td>\n",
       "      <td>downsloping</td>\n",
       "      <td>Number of major vessels: 0</td>\n",
       "      <td>reversable defect</td>\n",
       "      <td>No disease</td>\n",
       "    </tr>\n",
       "    <tr>\n",
       "      <th>3</th>\n",
       "      <td>61</td>\n",
       "      <td>Male</td>\n",
       "      <td>typical angina</td>\n",
       "      <td>148</td>\n",
       "      <td>203</td>\n",
       "      <td>No</td>\n",
       "      <td>normal</td>\n",
       "      <td>161</td>\n",
       "      <td>No</td>\n",
       "      <td>0.0</td>\n",
       "      <td>upsloping</td>\n",
       "      <td>Number of major vessels: 1</td>\n",
       "      <td>reversable defect</td>\n",
       "      <td>No disease</td>\n",
       "    </tr>\n",
       "    <tr>\n",
       "      <th>4</th>\n",
       "      <td>62</td>\n",
       "      <td>Female</td>\n",
       "      <td>typical angina</td>\n",
       "      <td>138</td>\n",
       "      <td>294</td>\n",
       "      <td>Yes</td>\n",
       "      <td>normal</td>\n",
       "      <td>106</td>\n",
       "      <td>No</td>\n",
       "      <td>1.9</td>\n",
       "      <td>flat</td>\n",
       "      <td>Number of major vessels: 3</td>\n",
       "      <td>fixed defect</td>\n",
       "      <td>No disease</td>\n",
       "    </tr>\n",
       "    <tr>\n",
       "      <th>...</th>\n",
       "      <td>...</td>\n",
       "      <td>...</td>\n",
       "      <td>...</td>\n",
       "      <td>...</td>\n",
       "      <td>...</td>\n",
       "      <td>...</td>\n",
       "      <td>...</td>\n",
       "      <td>...</td>\n",
       "      <td>...</td>\n",
       "      <td>...</td>\n",
       "      <td>...</td>\n",
       "      <td>...</td>\n",
       "      <td>...</td>\n",
       "      <td>...</td>\n",
       "    </tr>\n",
       "    <tr>\n",
       "      <th>286</th>\n",
       "      <td>68</td>\n",
       "      <td>Female</td>\n",
       "      <td>non-anginal pain</td>\n",
       "      <td>120</td>\n",
       "      <td>211</td>\n",
       "      <td>No</td>\n",
       "      <td>probable or definite left ventricular hypertrophy</td>\n",
       "      <td>115</td>\n",
       "      <td>No</td>\n",
       "      <td>1.5</td>\n",
       "      <td>flat</td>\n",
       "      <td>Number of major vessels: 0</td>\n",
       "      <td>fixed defect</td>\n",
       "      <td>Disease</td>\n",
       "    </tr>\n",
       "    <tr>\n",
       "      <th>287</th>\n",
       "      <td>44</td>\n",
       "      <td>Female</td>\n",
       "      <td>non-anginal pain</td>\n",
       "      <td>108</td>\n",
       "      <td>141</td>\n",
       "      <td>No</td>\n",
       "      <td>normal</td>\n",
       "      <td>175</td>\n",
       "      <td>No</td>\n",
       "      <td>0.6</td>\n",
       "      <td>flat</td>\n",
       "      <td>Number of major vessels: 0</td>\n",
       "      <td>fixed defect</td>\n",
       "      <td>Disease</td>\n",
       "    </tr>\n",
       "    <tr>\n",
       "      <th>288</th>\n",
       "      <td>52</td>\n",
       "      <td>Male</td>\n",
       "      <td>typical angina</td>\n",
       "      <td>128</td>\n",
       "      <td>255</td>\n",
       "      <td>No</td>\n",
       "      <td>normal</td>\n",
       "      <td>161</td>\n",
       "      <td>Yes</td>\n",
       "      <td>0.0</td>\n",
       "      <td>upsloping</td>\n",
       "      <td>Number of major vessels: 1</td>\n",
       "      <td>reversable defect</td>\n",
       "      <td>No disease</td>\n",
       "    </tr>\n",
       "    <tr>\n",
       "      <th>289</th>\n",
       "      <td>59</td>\n",
       "      <td>Male</td>\n",
       "      <td>asymtomatic</td>\n",
       "      <td>160</td>\n",
       "      <td>273</td>\n",
       "      <td>No</td>\n",
       "      <td>probable or definite left ventricular hypertrophy</td>\n",
       "      <td>125</td>\n",
       "      <td>No</td>\n",
       "      <td>0.0</td>\n",
       "      <td>upsloping</td>\n",
       "      <td>Number of major vessels: 0</td>\n",
       "      <td>fixed defect</td>\n",
       "      <td>No disease</td>\n",
       "    </tr>\n",
       "    <tr>\n",
       "      <th>290</th>\n",
       "      <td>54</td>\n",
       "      <td>Male</td>\n",
       "      <td>typical angina</td>\n",
       "      <td>120</td>\n",
       "      <td>188</td>\n",
       "      <td>No</td>\n",
       "      <td>normal</td>\n",
       "      <td>113</td>\n",
       "      <td>No</td>\n",
       "      <td>1.4</td>\n",
       "      <td>flat</td>\n",
       "      <td>Number of major vessels: 1</td>\n",
       "      <td>reversable defect</td>\n",
       "      <td>No disease</td>\n",
       "    </tr>\n",
       "  </tbody>\n",
       "</table>\n",
       "<p>291 rows × 14 columns</p>\n",
       "</div>"
      ],
      "text/plain": [
       "     age     sex                cp  trestbps  chol  fbs  \\\n",
       "0     52    Male    typical angina       125   212   No   \n",
       "1     53    Male    typical angina       140   203  Yes   \n",
       "2     70    Male    typical angina       145   174   No   \n",
       "3     61    Male    typical angina       148   203   No   \n",
       "4     62  Female    typical angina       138   294  Yes   \n",
       "..   ...     ...               ...       ...   ...  ...   \n",
       "286   68  Female  non-anginal pain       120   211   No   \n",
       "287   44  Female  non-anginal pain       108   141   No   \n",
       "288   52    Male    typical angina       128   255   No   \n",
       "289   59    Male       asymtomatic       160   273   No   \n",
       "290   54    Male    typical angina       120   188   No   \n",
       "\n",
       "                                               restecg  thalach exang  \\\n",
       "0                                               normal      168    No   \n",
       "1    probable or definite left ventricular hypertrophy      155   Yes   \n",
       "2                                               normal      125   Yes   \n",
       "3                                               normal      161    No   \n",
       "4                                               normal      106    No   \n",
       "..                                                 ...      ...   ...   \n",
       "286  probable or definite left ventricular hypertrophy      115    No   \n",
       "287                                             normal      175    No   \n",
       "288                                             normal      161   Yes   \n",
       "289  probable or definite left ventricular hypertrophy      125    No   \n",
       "290                                             normal      113    No   \n",
       "\n",
       "     oldpeak        slope                          ca               thal  \\\n",
       "0        1.0    upsloping  Number of major vessels: 2  reversable defect   \n",
       "1        3.1  downsloping  Number of major vessels: 0  reversable defect   \n",
       "2        2.6  downsloping  Number of major vessels: 0  reversable defect   \n",
       "3        0.0    upsloping  Number of major vessels: 1  reversable defect   \n",
       "4        1.9         flat  Number of major vessels: 3       fixed defect   \n",
       "..       ...          ...                         ...                ...   \n",
       "286      1.5         flat  Number of major vessels: 0       fixed defect   \n",
       "287      0.6         flat  Number of major vessels: 0       fixed defect   \n",
       "288      0.0    upsloping  Number of major vessels: 1  reversable defect   \n",
       "289      0.0    upsloping  Number of major vessels: 0       fixed defect   \n",
       "290      1.4         flat  Number of major vessels: 1  reversable defect   \n",
       "\n",
       "         target  \n",
       "0    No disease  \n",
       "1    No disease  \n",
       "2    No disease  \n",
       "3    No disease  \n",
       "4    No disease  \n",
       "..          ...  \n",
       "286     Disease  \n",
       "287     Disease  \n",
       "288  No disease  \n",
       "289  No disease  \n",
       "290  No disease  \n",
       "\n",
       "[291 rows x 14 columns]"
      ]
     },
     "execution_count": 44,
     "metadata": {},
     "output_type": "execute_result"
    }
   ],
   "source": [
    "df = pd.read_csv(r'Datasets/heartdisease_cleansed.csv')\n",
    "df"
   ]
  },
  {
   "cell_type": "code",
   "execution_count": 46,
   "id": "dc6b07da",
   "metadata": {},
   "outputs": [],
   "source": [
    "# Label Encoding\n",
    "cat_col = df.select_dtypes('object')\n",
    "encoder = {}\n",
    "\n",
    "for m in cat_col.columns.tolist():\n",
    "    label_encoder = LabelEncoder()\n",
    "    df[m] = label_encoder.fit_transform(df[m])\n",
    "    encoder[m] = label_encoder\n",
    "\n",
    "\n",
    "# df['sex'] = df['sex'].replace({'Male' : 1,'Female': 0})\n",
    "# df['cp'] = df['cp'].replace({'typical angina' : 0, 'atypical angina' : 1, 'non-anginal pain' : 2, 'asymtomatic' : 3})\n",
    "# df['fbs'] = df['fbs'].replace({'No' : 0, 'Yes' : 1})\n",
    "# df['restecg'] = df['restecg'].replace({'probable or definite left ventricular hypertrophy':0,'normal':1,'ST-T Wave abnormal':2})\n",
    "# df['exang'] = df['exang'].replace({'No':0,'Yes':1})\n",
    "# df['slope'] = df['slope'].replace({'downsloping':0, 'flat':1,'upsloping':2})\n",
    "# df['thal'] = df['thal'].replace({'normal':1, 'fixed defect':2,'reversable defect':3})\n",
    "# df['ca'] = df['ca'].replace({'Number of major vessels: 0':0, 'Number of major vessels: 1':1,'Number of major vessels: 2':2, 'Number of major vessels: 3':3})\n",
    "# df['target'] = df['target'].replace({'No disease':0,'Disease':1})"
   ]
  },
  {
   "cell_type": "code",
   "execution_count": 63,
   "id": "abc739ea",
   "metadata": {},
   "outputs": [
    {
     "data": {
      "text/plain": [
       "{'sex': LabelEncoder(),\n",
       " 'cp': LabelEncoder(),\n",
       " 'fbs': LabelEncoder(),\n",
       " 'restecg': LabelEncoder(),\n",
       " 'exang': LabelEncoder(),\n",
       " 'slope': LabelEncoder(),\n",
       " 'ca': LabelEncoder(),\n",
       " 'thal': LabelEncoder(),\n",
       " 'target': LabelEncoder()}"
      ]
     },
     "execution_count": 63,
     "metadata": {},
     "output_type": "execute_result"
    }
   ],
   "source": [
    "encoder"
   ]
  },
  {
   "cell_type": "code",
   "execution_count": 63,
   "id": "acb00c0e-2e10-4f74-8e15-9431b6b6f65d",
   "metadata": {
    "colab": {
     "base_uri": "https://localhost:8080/",
     "height": 1000
    },
    "id": "acb00c0e-2e10-4f74-8e15-9431b6b6f65d",
    "outputId": "908d215a-2839-4b53-b57f-bb7208a08602"
   },
   "outputs": [
    {
     "data": {
      "image/png": "[encoded data removed]",
      "text/plain": [
       "<Figure size 1080x1080 with 2 Axes>"
      ]
     },
     "metadata": {
      "needs_background": "light"
     },
     "output_type": "display_data"
    }
   ],
   "source": [
    "# melihat korelasi antar variable untuk mencari feature yang penting\n",
    "plt.figure(figsize=(15,15))\n",
    "cor = data.corr()\n",
    "sns.heatmap(cor,annot=True, linewidth=.4, cmap=\"magma\")\n",
    "plt.title('Korelasi Antar Variable', fontsize = 20)\n",
    "plt.show()"
   ]
  },
  {
   "cell_type": "code",
   "execution_count": 64,
   "id": "0cc65eb0-fab1-4ca6-b11f-c8bd88cd523c",
   "metadata": {
    "colab": {
     "base_uri": "https://localhost:8080/",
     "height": 206
    },
    "id": "0cc65eb0-fab1-4ca6-b11f-c8bd88cd523c",
    "outputId": "474f0acc-bc3b-4c70-ebc2-ea74c2b48721"
   },
   "outputs": [
    {
     "data": {
      "text/html": [
       "<div>\n",
       "<style scoped>\n",
       "    .dataframe tbody tr th:only-of-type {\n",
       "        vertical-align: middle;\n",
       "    }\n",
       "\n",
       "    .dataframe tbody tr th {\n",
       "        vertical-align: top;\n",
       "    }\n",
       "\n",
       "    .dataframe thead th {\n",
       "        text-align: right;\n",
       "    }\n",
       "</style>\n",
       "<table border=\"1\" class=\"dataframe\">\n",
       "  <thead>\n",
       "    <tr style=\"text-align: right;\">\n",
       "      <th></th>\n",
       "      <th>age</th>\n",
       "      <th>trestbps</th>\n",
       "      <th>chol</th>\n",
       "      <th>thalach</th>\n",
       "      <th>oldpeak</th>\n",
       "    </tr>\n",
       "  </thead>\n",
       "  <tbody>\n",
       "    <tr>\n",
       "      <th>age</th>\n",
       "      <td>1.000000</td>\n",
       "      <td>0.287119</td>\n",
       "      <td>0.177738</td>\n",
       "      <td>-0.400295</td>\n",
       "      <td>0.202572</td>\n",
       "    </tr>\n",
       "    <tr>\n",
       "      <th>trestbps</th>\n",
       "      <td>0.287119</td>\n",
       "      <td>1.000000</td>\n",
       "      <td>0.156105</td>\n",
       "      <td>-0.052180</td>\n",
       "      <td>0.159376</td>\n",
       "    </tr>\n",
       "    <tr>\n",
       "      <th>chol</th>\n",
       "      <td>0.177738</td>\n",
       "      <td>0.156105</td>\n",
       "      <td>1.000000</td>\n",
       "      <td>-0.026966</td>\n",
       "      <td>0.010072</td>\n",
       "    </tr>\n",
       "    <tr>\n",
       "      <th>thalach</th>\n",
       "      <td>-0.400295</td>\n",
       "      <td>-0.052180</td>\n",
       "      <td>-0.026966</td>\n",
       "      <td>1.000000</td>\n",
       "      <td>-0.352555</td>\n",
       "    </tr>\n",
       "    <tr>\n",
       "      <th>oldpeak</th>\n",
       "      <td>0.202572</td>\n",
       "      <td>0.159376</td>\n",
       "      <td>0.010072</td>\n",
       "      <td>-0.352555</td>\n",
       "      <td>1.000000</td>\n",
       "    </tr>\n",
       "  </tbody>\n",
       "</table>\n",
       "</div>"
      ],
      "text/plain": [
       "               age  trestbps      chol   thalach   oldpeak\n",
       "age       1.000000  0.287119  0.177738 -0.400295  0.202572\n",
       "trestbps  0.287119  1.000000  0.156105 -0.052180  0.159376\n",
       "chol      0.177738  0.156105  1.000000 -0.026966  0.010072\n",
       "thalach  -0.400295 -0.052180 -0.026966  1.000000 -0.352555\n",
       "oldpeak   0.202572  0.159376  0.010072 -0.352555  1.000000"
      ]
     },
     "execution_count": 64,
     "metadata": {},
     "output_type": "execute_result"
    }
   ],
   "source": [
    "cor_matrix = data.corr()\n",
    "cor_matrix"
   ]
  },
  {
   "cell_type": "code",
   "execution_count": 65,
   "id": "5GU4wbtn-T18",
   "metadata": {
    "colab": {
     "base_uri": "https://localhost:8080/",
     "height": 793
    },
    "id": "5GU4wbtn-T18",
    "outputId": "377a4a34-e8f3-4282-9553-8408661e7528"
   },
   "outputs": [
    {
     "data": {
      "text/plain": [
       "<AxesSubplot:>"
      ]
     },
     "execution_count": 65,
     "metadata": {},
     "output_type": "execute_result"
    },
    {
     "data": {
      "image/png": "[encoded data removed]",
      "text/plain": [
       "<Figure size 1080x720 with 2 Axes>"
      ]
     },
     "metadata": {
      "needs_background": "light"
     },
     "output_type": "display_data"
    }
   ],
   "source": [
    "plt.figure(figsize=(15,10))\n",
    "sns.heatmap(df.corr(), annot=True)"
   ]
  },
  {
   "cell_type": "code",
   "execution_count": 62,
   "id": "3d702367",
   "metadata": {},
   "outputs": [
    {
     "data": {
      "text/plain": [
       "<matplotlib.colorbar.Colorbar at 0x1f3e4dda040>"
      ]
     },
     "execution_count": 62,
     "metadata": {},
     "output_type": "execute_result"
    },
    {
     "data": {
      "image/png": "[encoded data removed]",
      "text/plain": [
       "<Figure size 432x288 with 2 Axes>"
      ]
     },
     "metadata": {},
     "output_type": "display_data"
    }
   ],
   "source": [
    "from biokit.viz import corrplot\n",
    "corrplot.Corrplot(df.corr()).plot(method='circle', shrink=.9 ,rotation=90, cmap='Blues')"
   ]
  },
  {
   "cell_type": "code",
   "execution_count": 68,
   "id": "5020bf07",
   "metadata": {},
   "outputs": [
    {
     "data": {
      "text/plain": [
       "ca         -0.453517\n",
       "exang      -0.437542\n",
       "oldpeak    -0.434354\n",
       "thal       -0.371944\n",
       "sex        -0.291647\n",
       "age        -0.228199\n",
       "trestbps   -0.153099\n",
       "chol       -0.115931\n",
       "fbs        -0.042272\n",
       "restecg     0.163927\n",
       "slope       0.337719\n",
       "thalach     0.412215\n",
       "cp          0.416037\n",
       "target      1.000000\n",
       "Name: target, dtype: float64"
      ]
     },
     "execution_count": 68,
     "metadata": {},
     "output_type": "execute_result"
    }
   ],
   "source": [
    "corr_matrix = df.corr()\n",
    "corr_matrix['target'].sort_valuesalues()"
   ]
  },
  {
   "cell_type": "markdown",
   "id": "452941a7-ee22-4aba-a96f-577e97f2c922",
   "metadata": {
    "id": "452941a7-ee22-4aba-a96f-577e97f2c922"
   },
   "source": [
    "### Feature Selection\n",
    "\n",
    "Korelasi target(penyakit jantung) dengan variabel lainnya. Korelasi positif dengan variabel tertentu berarti semakin tinggi variabel tersebut maka akan semakin tinggi juga kemungkinan terkena penyakit jantung, sedangkan korelasi negatif ialah semakin rendah nilai variabel tersebut maka kemungkinan terkena penyakit jantung lebih tinggi.\n",
    "\n",
    "1. ca -0.456989 (Korelasi Negatif Kuat)\n",
    "2. oldpeak -0.434108 (Korelasi Negatif Kuat)\n",
    "3. exang -0.431599 (Korelasi Negatif Kuat)\n",
    "4. thal -0.370759 (Korelasi Negatif Kuat)\n",
    "5. sex -0.318896 (Korelasi Negatif Kuat)\n",
    "6. age -0.222416 (Korelasi Negatif)\n",
    "7. trestbps -0.115614 (Korelasi Negatif Lemah)\n",
    "8. chol -0.0105627 (Korelasi Negatif Lemah)\n",
    "9. fbs 0.027210 (Korelasi Positif Lemah)\n",
    "10. restecg 0.171453 (Korelasi Positif Lemah)\n",
    "11. slope 0.326473 (korelasi Positif Kuat)\n",
    "12. cp 0.422559 (korelasi Positif Kuat)\n",
    "13. thalach 0.432211 (korelasi Positif Kuat)\n",
    "\n",
    "Jadi, bisa disimpulkan faktor yang paling berpengaruh terhadap penyakit jantung ialah, sebagai berikut:\n",
    "\n",
    "1. ca (semakin banyak major vessels ,maka akan semakin tinggi resiko terkena penyakit jantung)\n",
    "2. oldpeak (Semakin rendah depresi ST yang disebabkan oleh latihan relatif terhadap istirahat, maka resiko terkena penyakit jantung akan semakin tinggi)\n",
    "3. exang (Apibila exercise induced angina rendah, maka resiko terkena penyakit jantung akan semakin tinggi)\n",
    "4. thal(semakin rendah tipe jenis defek jantung, maka resiko terkena penyakit jantung semakin tinggi)\n",
    "5. sex (Perempuan memiliki resiko terkena penyakit jantung lebih tinggi dibandingkan laki-laki)\n",
    "6. age (semakin muda umur, ternyata semakin tinggi terkena penyakit jantung)\n",
    "7. slope (Semakin tinggi kemiringan segmen latihan ST maka, resiko terkena penyakit jantung semakin tinggi)\n",
    "8. cp (Semakin tinggi tipe Jenis rasa sakit pada dada, maka resiko terkena penyakit jantung semakin tinggi)\n",
    "9. thalach (semakin tinggi detak jantung maksimum yang dicapai pasien selama tes latihan, maka resiko terkena penyakit jantung semakin tinggi)"
   ]
  },
  {
   "cell_type": "markdown",
   "id": "3a847ea2-497f-4201-892e-e7a7b9584266",
   "metadata": {
    "id": "3a847ea2-497f-4201-892e-e7a7b9584266"
   },
   "source": [
    "Kesimpulan.\n",
    "\n",
    "1. 'cp', 'thalach', dan 'slope' berkorelasi positif cukup kuat dengan 'target'.\n",
    "2. 'oldpeak', 'exang', 'ca', 'thal', 'sex', dan 'age' berkorelasi cukup kuat dengan 'target'.\n",
    "3. 'fbs', 'chol', 'trestbps', dan 'restecg' memiliki korelasi yang lemah dengan 'target'.\n",
    "\n",
    "Feature yang dipilih yaitu :'cp', 'thalach', 'slope', 'oldpeak', 'exang', 'ca', 'thal', 'sex', dan 'age' untuk dianalisa lebih lanjut."
   ]
  },
  {
   "cell_type": "code",
   "execution_count": 5,
   "id": "1a03ef83-9174-4a0c-9e8c-8a35dc591a75",
   "metadata": {
    "id": "1a03ef83-9174-4a0c-9e8c-8a35dc591a75"
   },
   "outputs": [],
   "source": [
    "variabel = ['cp', 'thalach', 'slope', 'oldpeak', 'exang', 'ca', 'thal', 'sex', 'age']\n",
    "analyze = df[variabel]"
   ]
  },
  {
   "cell_type": "code",
   "execution_count": 6,
   "id": "db5d644b-1d26-4978-b4df-852fdaef0675",
   "metadata": {
    "colab": {
     "base_uri": "https://localhost:8080/",
     "height": 633
    },
    "id": "db5d644b-1d26-4978-b4df-852fdaef0675",
    "outputId": "e470796c-37e7-4fe9-ea9e-3e084b757eae"
   },
   "outputs": [
    {
     "data": {
      "image/png": "[encoded data removed]",
      "text/plain": [
       "<Figure size 1080x648 with 9 Axes>"
      ]
     },
     "metadata": {
      "needs_background": "light"
     },
     "output_type": "display_data"
    }
   ],
   "source": [
    "# Informasi variabel ke target\n",
    "fig = plt.figure(figsize=(15,9))\n",
    "for index in range(len(analyze.columns)):\n",
    "    plt.subplot(3,3,index + 1)\n",
    "    sns.scatterplot(x = analyze.iloc[:,index],y=df.target,data = analyze)\n",
    "    plt.xlabel(analyze.columns[index], fontsize=14)\n",
    "    plt.ylabel(\"Target\", fontsize=14)\n",
    "\n",
    "fig.tight_layout(pad = 1.0)"
   ]
  },
  {
   "cell_type": "markdown",
   "id": "cf528ac0",
   "metadata": {
    "id": "7fc338e9-ac4d-4b08-9a99-fb426edaeef3"
   },
   "source": [
    "### Scalling\n",
    "\n",
    "Scaling adalah suatu cara untuk membuat numerical data pada dataset memiliki rentang nilai (scale) yang sama. Tidak ada lagi satu variabel data yang mendominasi variabel data lainnya."
   ]
  },
  {
   "cell_type": "code",
   "execution_count": 18,
   "id": "7932fe64",
   "metadata": {},
   "outputs": [],
   "source": [
    "X = df[['cp', 'thalach', 'slope', 'oldpeak', 'exang', 'ca', 'thal', 'sex', 'age']]\n",
    "y = df['target']"
   ]
  },
  {
   "cell_type": "code",
   "execution_count": 15,
   "id": "6e3e9413",
   "metadata": {
    "id": "f67db2ae-e68f-4b6a-8b9d-563b4ba5b063"
   },
   "outputs": [],
   "source": [
    "# Mendefinisikan standard scaler\n",
    "scaler = StandardScaler()\n",
    "X_scaled = scaler.fit_transform(X)"
   ]
  },
  {
   "cell_type": "code",
   "execution_count": 44,
   "id": "d2ca36d9-2d0a-450f-9e6a-89cf14ea2453",
   "metadata": {
    "colab": {
     "base_uri": "https://localhost:8080/",
     "height": 472
    },
    "id": "d2ca36d9-2d0a-450f-9e6a-89cf14ea2453",
    "outputId": "96463c25-e6e7-4604-d50a-19380b6f5aa9"
   },
   "outputs": [],
   "source": [
    "# # Perform PCA for dimensionality reduction\n",
    "# feature_number = len(X_scaled[0])\n",
    "# pca = PCA(n_components=feature_number)\n",
    "\n",
    "# # Fit PCA with dataset\n",
    "# pca.fit(X_scaled)\n",
    "\n",
    "# # Get variance information\n",
    "# variance_ratio = pca.explained_variance_ratio_\n",
    "\n",
    "# # Calculate cummulative\n",
    "# cumulative_variance = np.cumsum(variance_ratio)\n",
    "\n",
    "# # Create Scree Plot\n",
    "# plt.plot(range(1, len(variance_ratio) + 1), variance_ratio, marker='o')\n",
    "# plt.xlabel('Komponen Utama ke-')\n",
    "# plt.ylabel('Varians (Nilai Eigen)')\n",
    "# plt.title('Scree Plot')\n",
    "# plt.show()"
   ]
  },
  {
   "cell_type": "code",
   "execution_count": 45,
   "id": "e8ed32ab-ac04-4dd5-8525-c8dfbe038d83",
   "metadata": {
    "colab": {
     "base_uri": "https://localhost:8080/"
    },
    "id": "e8ed32ab-ac04-4dd5-8525-c8dfbe038d83",
    "outputId": "9f9481df-240c-499f-e1d1-b6dea9eed951"
   },
   "outputs": [],
   "source": [
    "# feature_names = df.drop('target', axis=1).columns.to_list()\n",
    "# component_names = [f\"PC{i+1}\" for i in range(pca.n_components_)]\n",
    "\n",
    "# for component, component_name in zip(pca.components_, component_names):\n",
    "#     feature_indices = component.argsort()[::-1]\n",
    "#     retained_features = [feature_names[idx] for idx in feature_indices[:pca.n_components_]]\n",
    "#     print(f\"{component_name}: {retained_features}\")"
   ]
  },
  {
   "cell_type": "code",
   "execution_count": 46,
   "id": "b30a3922",
   "metadata": {
    "id": "f50ff21e-77ac-40b8-bcd9-4673867c7a67"
   },
   "outputs": [],
   "source": [
    "# pca = PCA(n_components=9)\n",
    "# heart_data_reduced = pca.fit_transform(X_scaled)"
   ]
  },
  {
   "cell_type": "markdown",
   "id": "299eea14",
   "metadata": {},
   "source": [
    "# Data Split"
   ]
  },
  {
   "cell_type": "code",
   "execution_count": 17,
   "id": "0652bba9",
   "metadata": {},
   "outputs": [
    {
     "name": "stdout",
     "output_type": "stream",
     "text": [
      "(232, 9)\n",
      "(59, 9)\n",
      "(232,)\n",
      "(59,)\n"
     ]
    }
   ],
   "source": [
    "# Mendefinisikan pemisahan data\n",
    "X_train, X_test, y_train, y_test = train_test_split(X_scaled , y, test_size=0.2, random_state=42)\n",
    "\n",
    "# Menampilkan hasil pemisahan berdasarkan kolom dan baris\n",
    "print(X_train.shape)\n",
    "print(X_test.shape)\n",
    "print(y_train.shape)\n",
    "print(y_test.shape)"
   ]
  },
  {
   "cell_type": "code",
   "execution_count": 12,
   "id": "ccc2d29b",
   "metadata": {},
   "outputs": [
    {
     "data": {
      "text/plain": [
       "(59, 9)"
      ]
     },
     "execution_count": 12,
     "metadata": {},
     "output_type": "execute_result"
    }
   ],
   "source": [
    "X_test.shape"
   ]
  },
  {
   "cell_type": "markdown",
   "id": "f479b3c2",
   "metadata": {},
   "source": [
    "# Model Training"
   ]
  },
  {
   "cell_type": "markdown",
   "id": "d9afd4a7",
   "metadata": {},
   "source": [
    "### Logistic Regression Model"
   ]
  },
  {
   "cell_type": "code",
   "execution_count": 70,
   "id": "16b588b4",
   "metadata": {},
   "outputs": [
    {
     "name": "stdout",
     "output_type": "stream",
     "text": [
      "The test accuracy score of Logistric Regression Classifier is  0.7796610169491526\n"
     ]
    }
   ],
   "source": [
    "clf = LogisticRegression()\n",
    "# train the classifier\n",
    "clf.fit(X_train, y_train)\n",
    "y_pred = clf.predict(X_test)\n",
    "# printing the test accuracy\n",
    "print(\"The test accuracy score of Logistric Regression Classifier is \", accuracy_score(y_test,y_pred))"
   ]
  },
  {
   "cell_type": "code",
   "execution_count": 71,
   "id": "856d07a3",
   "metadata": {},
   "outputs": [
    {
     "name": "stdout",
     "output_type": "stream",
     "text": [
      "              precision    recall  f1-score   support\n",
      "\n",
      "           0   0.937500  0.555556  0.697674        27\n",
      "           1   0.720930  0.968750  0.826667        32\n",
      "\n",
      "    accuracy                       0.779661        59\n",
      "   macro avg   0.829215  0.762153  0.762171        59\n",
      "weighted avg   0.820038  0.779661  0.767636        59\n",
      "\n"
     ]
    }
   ],
   "source": [
    "print(classification_report(y_test, y_pred, digits=6))"
   ]
  },
  {
   "cell_type": "markdown",
   "id": "9fde4b64",
   "metadata": {},
   "source": [
    "### Decision Tree Model"
   ]
  },
  {
   "cell_type": "code",
   "execution_count": 72,
   "id": "b68dc05d",
   "metadata": {},
   "outputs": [
    {
     "name": "stdout",
     "output_type": "stream",
     "text": [
      "The test accuracy score of Decision Tree Classifier is  0.6440677966101694\n"
     ]
    }
   ],
   "source": [
    "clf = DecisionTreeClassifier()\n",
    "# train the classifier\n",
    "clf.fit(X_train, y_train)\n",
    "y_pred = clf.predict(X_test)\n",
    "# printing the test accuracy\n",
    "print(\"The test accuracy score of Decision Tree Classifier is \", accuracy_score(y_test, y_pred))"
   ]
  },
  {
   "cell_type": "code",
   "execution_count": 73,
   "id": "c611c7d0",
   "metadata": {},
   "outputs": [
    {
     "name": "stdout",
     "output_type": "stream",
     "text": [
      "              precision    recall  f1-score   support\n",
      "\n",
      "           0   0.650000  0.481481  0.553191        27\n",
      "           1   0.641026  0.781250  0.704225        32\n",
      "\n",
      "    accuracy                       0.644068        59\n",
      "   macro avg   0.645513  0.631366  0.628708        59\n",
      "weighted avg   0.645133  0.644068  0.635108        59\n",
      "\n"
     ]
    }
   ],
   "source": [
    "print(classification_report(y_test, y_pred, digits=6))"
   ]
  },
  {
   "cell_type": "markdown",
   "id": "dcd60b31",
   "metadata": {},
   "source": [
    "### Random Forest Model"
   ]
  },
  {
   "cell_type": "code",
   "execution_count": 74,
   "id": "ef6abe14",
   "metadata": {},
   "outputs": [
    {
     "name": "stdout",
     "output_type": "stream",
     "text": [
      "The test accuracy score of Random Forest Classifier is  0.7627118644067796\n"
     ]
    }
   ],
   "source": [
    "clf = RandomForestClassifier()\n",
    "# train the classifier\n",
    "clf.fit(X_train, y_train)\n",
    "y_pred = clf.predict(X_test)\n",
    "# printing the test accuracy\n",
    "print(\"The test accuracy score of Random Forest Classifier is \", accuracy_score(y_test, y_pred))"
   ]
  },
  {
   "cell_type": "code",
   "execution_count": 75,
   "id": "c9e2c806",
   "metadata": {},
   "outputs": [
    {
     "name": "stdout",
     "output_type": "stream",
     "text": [
      "              precision    recall  f1-score   support\n",
      "\n",
      "           0   0.882353  0.555556  0.681818        27\n",
      "           1   0.714286  0.937500  0.810811        32\n",
      "\n",
      "    accuracy                       0.762712        59\n",
      "   macro avg   0.798319  0.746528  0.746314        59\n",
      "weighted avg   0.791198  0.762712  0.751780        59\n",
      "\n"
     ]
    }
   ],
   "source": [
    "print(classification_report(y_test, y_pred, digits=6))"
   ]
  },
  {
   "cell_type": "markdown",
   "id": "bdaf6911",
   "metadata": {},
   "source": [
    "### MPL Classifier Model"
   ]
  },
  {
   "cell_type": "code",
   "execution_count": 77,
   "id": "b6047642",
   "metadata": {},
   "outputs": [
    {
     "name": "stdout",
     "output_type": "stream",
     "text": [
      "The test accuracy score of MLP Classifier is  0.7966101694915254\n"
     ]
    }
   ],
   "source": [
    "clf = MLPClassifier()\n",
    "# train the classifier\n",
    "clf.fit(X_train, y_train)\n",
    "y_pred = clf.predict(X_test)\n",
    "# printing the test accuracy\n",
    "print(\"The test accuracy score of MLP Classifier is \", accuracy_score(y_test,y_pred))"
   ]
  },
  {
   "cell_type": "code",
   "execution_count": 78,
   "id": "e28af830",
   "metadata": {},
   "outputs": [
    {
     "name": "stdout",
     "output_type": "stream",
     "text": [
      "              precision    recall  f1-score   support\n",
      "\n",
      "           0   0.941176  0.592593  0.727273        27\n",
      "           1   0.738095  0.968750  0.837838        32\n",
      "\n",
      "    accuracy                       0.796610        59\n",
      "   macro avg   0.839636  0.780671  0.782555        59\n",
      "weighted avg   0.831031  0.796610  0.787240        59\n",
      "\n"
     ]
    }
   ],
   "source": [
    "print(classification_report(y_test, y_pred, digits=6))"
   ]
  },
  {
   "cell_type": "markdown",
   "id": "5311339b",
   "metadata": {},
   "source": [
    "# Hyperparameter Tuning\n",
    "\n",
    "Tuning menggunakan score: roc-auc"
   ]
  },
  {
   "cell_type": "markdown",
   "id": "e4cf905b",
   "metadata": {},
   "source": [
    "### Logistic Regression Model"
   ]
  },
  {
   "cell_type": "code",
   "execution_count": 49,
   "id": "adfeda29",
   "metadata": {},
   "outputs": [
    {
     "name": "stdout",
     "output_type": "stream",
     "text": [
      "{'max_iter': 100, 'multi_class': 'auto', 'solver': 'lbfgs'}\n",
      "0.9262930402930403\n"
     ]
    }
   ],
   "source": [
    "# Logistic regression classifier with hyperparameter\n",
    "clf = LogisticRegression()\n",
    "\n",
    "param_grid = {\n",
    "    'max_iter': [100, 200, 300],\n",
    "    'multi_class': ['auto', 'ovr', 'multinomial'],\n",
    "    'solver' : ['lbfgs', 'liblinear', 'newton-cg', 'newton-cholesky', 'sag', 'saga']\n",
    "}\n",
    "\n",
    "gs1 = GridSearchCV(\n",
    "        estimator= clf,\n",
    "        param_grid = param_grid,\n",
    "        cv=5,\n",
    "        n_jobs=-1,\n",
    "        scoring='roc_auc'\n",
    "    )\n",
    "\n",
    "fit_clf_lg = gs1.fit(X_train, y_train)\n",
    "\n",
    "print(fit_clf_lg.best_params_)\n",
    "print(fit_clf_lg.best_score_)"
   ]
  },
  {
   "cell_type": "code",
   "execution_count": 50,
   "id": "6a57a55c",
   "metadata": {},
   "outputs": [
    {
     "name": "stdout",
     "output_type": "stream",
     "text": [
      "              precision    recall  f1-score   support\n",
      "\n",
      "           0   0.714286  0.937500  0.810811        32\n",
      "           1   0.882353  0.555556  0.681818        27\n",
      "\n",
      "    accuracy                       0.762712        59\n",
      "   macro avg   0.798319  0.746528  0.746314        59\n",
      "weighted avg   0.791198  0.762712  0.751780        59\n",
      "\n"
     ]
    }
   ],
   "source": [
    "y_pred = fit_clf_lg.predict(X_test)\n",
    "print(classification_report(y_test, y_pred, digits=6))"
   ]
  },
  {
   "cell_type": "markdown",
   "id": "2aaddca9",
   "metadata": {},
   "source": [
    "### Decision Tree Model"
   ]
  },
  {
   "cell_type": "code",
   "execution_count": 51,
   "id": "3416e8a2",
   "metadata": {},
   "outputs": [
    {
     "name": "stdout",
     "output_type": "stream",
     "text": [
      "{'criterion': 'entropy', 'max_depth': None, 'min_samples_leaf': 4}\n",
      "0.8878131868131869\n"
     ]
    }
   ],
   "source": [
    "# Decision Tree classifier with hyperparameter\n",
    "clf = DecisionTreeClassifier()\n",
    "\n",
    "param_grid = {'min_samples_leaf': [1,2,4],\n",
    "               'max_depth': [None, '10', '20', '30'],\n",
    "               'criterion': ['gini', 'entropy']}\n",
    "\n",
    "gs1 = GridSearchCV(\n",
    "        estimator=clf,\n",
    "        param_grid = param_grid,\n",
    "        cv=5,\n",
    "        n_jobs=-1,\n",
    "        scoring='roc_auc'\n",
    "    )\n",
    "\n",
    "fit_clf_dt = gs1.fit(X_train, y_train)\n",
    "\n",
    "print(fit_clf_dt.best_params_)\n",
    "print(fit_clf_dt.best_score_)"
   ]
  },
  {
   "cell_type": "code",
   "execution_count": 52,
   "id": "27bb2843",
   "metadata": {},
   "outputs": [
    {
     "name": "stdout",
     "output_type": "stream",
     "text": [
      "              precision    recall  f1-score   support\n",
      "\n",
      "           0   0.666667  0.875000  0.756757        32\n",
      "           1   0.764706  0.481481  0.590909        27\n",
      "\n",
      "    accuracy                       0.694915        59\n",
      "   macro avg   0.715686  0.678241  0.673833        59\n",
      "weighted avg   0.711532  0.694915  0.680860        59\n",
      "\n"
     ]
    }
   ],
   "source": [
    "y_pred = fit_clf_dt.predict(X_test)\n",
    "print(classification_report(y_test, y_pred, digits=6))"
   ]
  },
  {
   "cell_type": "markdown",
   "id": "c958ac1d",
   "metadata": {},
   "source": [
    "### Random Forest Model"
   ]
  },
  {
   "cell_type": "code",
   "execution_count": 53,
   "id": "9c1f3a94",
   "metadata": {},
   "outputs": [
    {
     "name": "stdout",
     "output_type": "stream",
     "text": [
      "{'criterion': 'entropy', 'max_depth': 10, 'n_estimators': 200}\n",
      "0.9341465201465201\n"
     ]
    }
   ],
   "source": [
    "# Random Forest classifier with hyperparameter\n",
    "clf = RandomForestClassifier()\n",
    "\n",
    "param_grid = {'n_estimators': [100, 200, 300],\n",
    "               'max_depth': [None, 10, 20, 30, 40],\n",
    "               'criterion': ['gini', 'entropy']}\n",
    "\n",
    "gs1 = GridSearchCV(\n",
    "        estimator=clf,\n",
    "        param_grid = param_grid,\n",
    "        cv=5,\n",
    "        n_jobs=-1,\n",
    "        scoring='roc_auc'\n",
    "    )\n",
    "\n",
    "fit_clf_rf = gs1.fit(X_train, y_train)\n",
    "\n",
    "print(fit_clf_rf.best_params_)\n",
    "print(fit_clf_rf.best_score_)"
   ]
  },
  {
   "cell_type": "code",
   "execution_count": 54,
   "id": "c6465f87",
   "metadata": {},
   "outputs": [
    {
     "name": "stdout",
     "output_type": "stream",
     "text": [
      "              precision    recall  f1-score   support\n",
      "\n",
      "           0   0.707317  0.906250  0.794521        32\n",
      "           1   0.833333  0.555556  0.666667        27\n",
      "\n",
      "    accuracy                       0.745763        59\n",
      "   macro avg   0.770325  0.730903  0.730594        59\n",
      "weighted avg   0.764986  0.745763  0.736011        59\n",
      "\n"
     ]
    }
   ],
   "source": [
    "y_pred = fit_clf_rf.predict(X_test)\n",
    "print(classification_report(y_test, y_pred, digits=6))"
   ]
  },
  {
   "cell_type": "markdown",
   "id": "43a98d1d",
   "metadata": {},
   "source": [
    "### MPL Classifier Model"
   ]
  },
  {
   "cell_type": "code",
   "execution_count": 55,
   "id": "2f42ba77",
   "metadata": {},
   "outputs": [
    {
     "name": "stdout",
     "output_type": "stream",
     "text": [
      "{'activation': 'relu', 'hidden_layer_sizes': (100,), 'solver': 'adam'}\n",
      "0.9337106227106228\n"
     ]
    }
   ],
   "source": [
    "# MLP Classifier with hyperparameter\n",
    "clf = MLPClassifier()\n",
    "\n",
    "param_grid1 = {'hidden_layer_sizes': [(100,),(100,50),(100, 100, 100)],\n",
    "               'activation': ['logistic', 'tanh', 'relu'],\n",
    "               'solver': ['sgd', 'adam' ]}\n",
    "\n",
    "gs1 = GridSearchCV(\n",
    "        estimator=clf,\n",
    "        param_grid = param_grid1,\n",
    "        cv=5,\n",
    "        n_jobs=-1,\n",
    "        scoring='roc_auc'\n",
    "    )\n",
    "\n",
    "fit_clf_mlp = gs1.fit(X_train, y_train)\n",
    "\n",
    "print(fit_clf_mlp.best_params_)\n",
    "print(fit_clf_mlp.best_score_)"
   ]
  },
  {
   "cell_type": "code",
   "execution_count": 56,
   "id": "a57b5207",
   "metadata": {},
   "outputs": [
    {
     "name": "stdout",
     "output_type": "stream",
     "text": [
      "              precision    recall  f1-score   support\n",
      "\n",
      "           0   0.700000  0.875000  0.777778        32\n",
      "           1   0.789474  0.555556  0.652174        27\n",
      "\n",
      "    accuracy                       0.728814        59\n",
      "   macro avg   0.744737  0.715278  0.714976        59\n",
      "weighted avg   0.740946  0.728814  0.720298        59\n",
      "\n"
     ]
    }
   ],
   "source": [
    "y_pred = fit_clf_mlp.predict(X_test)\n",
    "print(classification_report(y_test, y_pred, digits=6))"
   ]
  },
  {
   "cell_type": "markdown",
   "id": "c32d8591",
   "metadata": {},
   "source": [
    "# Model Evaluation\n",
    "\n",
    "Menggunakan ROC Analysis: Kurva yang menyajikan ilustrasi performansi dari binary classifier system dalam menghasilkan sebuah prediksi"
   ]
  },
  {
   "cell_type": "code",
   "execution_count": 96,
   "id": "379c21cf",
   "metadata": {},
   "outputs": [
    {
     "name": "stdout",
     "output_type": "stream",
     "text": [
      "AUC-ROC for Logistic Regression: 0.8287037037037037\n",
      "AUC-ROC for Random Forest: 0.814236111111111\n",
      "AUC-ROC for Decision Tree: 0.701388888888889\n",
      "AUC-ROC for MLP: 0.8275462962962963\n"
     ]
    }
   ],
   "source": [
    "# Predict the probabilities for the positive class\n",
    "y_pred_logreg = fit_clf_lg.predict_proba(X_test)[:,1]\n",
    "y_pred_rf = fit_clf_rf.predict_proba(X_test)[:,1]\n",
    "y_pred_dt= fit_clf_dt.predict_proba(X_test)[:,1]\n",
    "y_pred_mlp= fit_clf_mlp.predict_proba(X_test)[:,1]\n",
    "\n",
    "# Calculate the AUC-ROC scores\n",
    "auc_logreg = roc_auc_score(y_test, y_pred_logreg)\n",
    "auc_rf = roc_auc_score(y_test, y_pred_rf)\n",
    "auc_dt = roc_auc_score(y_test, y_pred_dt)\n",
    "auc_mlp = roc_auc_score(y_test, y_pred_mlp)\n",
    "\n",
    "print(f\"AUC-ROC for Logistic Regression: {auc_logreg}\")\n",
    "print(f\"AUC-ROC for Random Forest: {auc_rf}\")\n",
    "print(f\"AUC-ROC for Decision Tree: {auc_dt}\")\n",
    "print(f\"AUC-ROC for MLP: {auc_mlp}\")"
   ]
  },
  {
   "cell_type": "code",
   "execution_count": 97,
   "id": "9704bcfa",
   "metadata": {},
   "outputs": [
    {
     "data": {
      "image/png": "[encoded data removed]",
      "text/plain": [
       "<Figure size 576x432 with 1 Axes>"
      ]
     },
     "metadata": {
      "needs_background": "light"
     },
     "output_type": "display_data"
    }
   ],
   "source": [
    "#Membuat ROC Analisis\n",
    "def plot_roc_curves(y_test, y_pred_logreg, y_pred_rf, y_pred_dt, y_pred_mlp):\n",
    "    plt.figure(figsize=(8, 6))\n",
    "\n",
    "    # Calculate ROC curves for each model\n",
    "    fpr_logreg, tpr_logreg, _ = roc_curve(y_test, y_pred_logreg)\n",
    "    fpr_rf, tpr_rf, _ = roc_curve(y_test, y_pred_rf)\n",
    "    fpr_dt, tpr_dt, _ = roc_curve(y_test, y_pred_dt)\n",
    "    fpr_mlp, tpr_mlp, _ = roc_curve(y_test, y_pred_mlp)\n",
    "\n",
    "    # Plot ROC curves\n",
    "    plt.plot(fpr_logreg, tpr_logreg, label=f'Logistic Regression (AUC = {auc_logreg:.2f})')\n",
    "    plt.plot(fpr_rf, tpr_rf, label=f'Random Forest (AUC = {auc_rf:.2f})')\n",
    "    plt.plot(fpr_dt, tpr_dt, label=f'Decision Tree (AUC = {auc_dt:.2f})')\n",
    "    plt.plot(fpr_mlp, tpr_mlp, label=f'MLP (AUC = {auc_mlp:.2f})')\n",
    "\n",
    "    # Plot random classifier\n",
    "    plt.plot([0,1],[0,1], linestyle='--', label='Random Classifier')\n",
    "\n",
    "    # Format the plot\n",
    "    plt.xlabel('False Positive Rate')\n",
    "    plt.ylabel('True Positive Rate')\n",
    "    plt.title('ROC Curves for Heart Disease Prediction Models')\n",
    "    plt.legend()\n",
    "    plt.show()\n",
    "\n",
    "plot_roc_curves(y_test, y_pred_logreg, y_pred_rf, y_pred_dt, y_pred_mlp)"
   ]
  },
  {
   "cell_type": "code",
   "execution_count": 100,
   "id": "ff0058f2",
   "metadata": {},
   "outputs": [
    {
     "data": {
      "text/html": [
       "<div>\n",
       "<style scoped>\n",
       "    .dataframe tbody tr th:only-of-type {\n",
       "        vertical-align: middle;\n",
       "    }\n",
       "\n",
       "    .dataframe tbody tr th {\n",
       "        vertical-align: top;\n",
       "    }\n",
       "\n",
       "    .dataframe thead th {\n",
       "        text-align: right;\n",
       "    }\n",
       "</style>\n",
       "<table border=\"1\" class=\"dataframe\">\n",
       "  <thead>\n",
       "    <tr style=\"text-align: right;\">\n",
       "      <th></th>\n",
       "      <th>Threshold</th>\n",
       "      <th>Logistic Regression FPR</th>\n",
       "      <th>Logistic Regression TPR</th>\n",
       "      <th>Random Forest FPR</th>\n",
       "      <th>Random Forest TPR</th>\n",
       "      <th>Decision Tree FPR</th>\n",
       "      <th>Decision Tree TPR</th>\n",
       "      <th>MLP FPR</th>\n",
       "      <th>MLP TPR</th>\n",
       "    </tr>\n",
       "  </thead>\n",
       "  <tbody>\n",
       "    <tr>\n",
       "      <th>0</th>\n",
       "      <td>0.0</td>\n",
       "      <td>1.000000</td>\n",
       "      <td>1.00000</td>\n",
       "      <td>0.962963</td>\n",
       "      <td>1.00000</td>\n",
       "      <td>0.629630</td>\n",
       "      <td>0.90625</td>\n",
       "      <td>1.000000</td>\n",
       "      <td>1.0000</td>\n",
       "    </tr>\n",
       "    <tr>\n",
       "      <th>1</th>\n",
       "      <td>0.1</td>\n",
       "      <td>0.666667</td>\n",
       "      <td>1.00000</td>\n",
       "      <td>0.703704</td>\n",
       "      <td>1.00000</td>\n",
       "      <td>0.629630</td>\n",
       "      <td>0.90625</td>\n",
       "      <td>0.703704</td>\n",
       "      <td>1.0000</td>\n",
       "    </tr>\n",
       "    <tr>\n",
       "      <th>2</th>\n",
       "      <td>0.2</td>\n",
       "      <td>0.629630</td>\n",
       "      <td>1.00000</td>\n",
       "      <td>0.629630</td>\n",
       "      <td>1.00000</td>\n",
       "      <td>0.444444</td>\n",
       "      <td>0.84375</td>\n",
       "      <td>0.666667</td>\n",
       "      <td>1.0000</td>\n",
       "    </tr>\n",
       "    <tr>\n",
       "      <th>3</th>\n",
       "      <td>0.3</td>\n",
       "      <td>0.555556</td>\n",
       "      <td>1.00000</td>\n",
       "      <td>0.592593</td>\n",
       "      <td>1.00000</td>\n",
       "      <td>0.407407</td>\n",
       "      <td>0.84375</td>\n",
       "      <td>0.481481</td>\n",
       "      <td>1.0000</td>\n",
       "    </tr>\n",
       "    <tr>\n",
       "      <th>4</th>\n",
       "      <td>0.4</td>\n",
       "      <td>0.444444</td>\n",
       "      <td>1.00000</td>\n",
       "      <td>0.518519</td>\n",
       "      <td>1.00000</td>\n",
       "      <td>0.407407</td>\n",
       "      <td>0.84375</td>\n",
       "      <td>0.407407</td>\n",
       "      <td>1.0000</td>\n",
       "    </tr>\n",
       "    <tr>\n",
       "      <th>5</th>\n",
       "      <td>0.5</td>\n",
       "      <td>0.444444</td>\n",
       "      <td>0.96875</td>\n",
       "      <td>0.444444</td>\n",
       "      <td>0.90625</td>\n",
       "      <td>0.333333</td>\n",
       "      <td>0.68750</td>\n",
       "      <td>0.407407</td>\n",
       "      <td>0.9375</td>\n",
       "    </tr>\n",
       "    <tr>\n",
       "      <th>6</th>\n",
       "      <td>0.6</td>\n",
       "      <td>0.407407</td>\n",
       "      <td>0.87500</td>\n",
       "      <td>0.370370</td>\n",
       "      <td>0.81250</td>\n",
       "      <td>0.333333</td>\n",
       "      <td>0.56250</td>\n",
       "      <td>0.370370</td>\n",
       "      <td>0.8750</td>\n",
       "    </tr>\n",
       "    <tr>\n",
       "      <th>7</th>\n",
       "      <td>0.7</td>\n",
       "      <td>0.296296</td>\n",
       "      <td>0.75000</td>\n",
       "      <td>0.259259</td>\n",
       "      <td>0.68750</td>\n",
       "      <td>0.333333</td>\n",
       "      <td>0.56250</td>\n",
       "      <td>0.296296</td>\n",
       "      <td>0.7500</td>\n",
       "    </tr>\n",
       "    <tr>\n",
       "      <th>8</th>\n",
       "      <td>0.8</td>\n",
       "      <td>0.222222</td>\n",
       "      <td>0.71875</td>\n",
       "      <td>0.222222</td>\n",
       "      <td>0.53125</td>\n",
       "      <td>0.259259</td>\n",
       "      <td>0.46875</td>\n",
       "      <td>0.222222</td>\n",
       "      <td>0.6875</td>\n",
       "    </tr>\n",
       "    <tr>\n",
       "      <th>9</th>\n",
       "      <td>0.9</td>\n",
       "      <td>0.148148</td>\n",
       "      <td>0.43750</td>\n",
       "      <td>0.074074</td>\n",
       "      <td>0.34375</td>\n",
       "      <td>0.259259</td>\n",
       "      <td>0.46875</td>\n",
       "      <td>0.148148</td>\n",
       "      <td>0.3750</td>\n",
       "    </tr>\n",
       "    <tr>\n",
       "      <th>10</th>\n",
       "      <td>1.0</td>\n",
       "      <td>0.000000</td>\n",
       "      <td>0.00000</td>\n",
       "      <td>0.000000</td>\n",
       "      <td>0.00000</td>\n",
       "      <td>0.000000</td>\n",
       "      <td>0.00000</td>\n",
       "      <td>0.000000</td>\n",
       "      <td>0.0000</td>\n",
       "    </tr>\n",
       "  </tbody>\n",
       "</table>\n",
       "</div>"
      ],
      "text/plain": [
       "    Threshold  Logistic Regression FPR  Logistic Regression TPR  \\\n",
       "0         0.0                 1.000000                  1.00000   \n",
       "1         0.1                 0.666667                  1.00000   \n",
       "2         0.2                 0.629630                  1.00000   \n",
       "3         0.3                 0.555556                  1.00000   \n",
       "4         0.4                 0.444444                  1.00000   \n",
       "5         0.5                 0.444444                  0.96875   \n",
       "6         0.6                 0.407407                  0.87500   \n",
       "7         0.7                 0.296296                  0.75000   \n",
       "8         0.8                 0.222222                  0.71875   \n",
       "9         0.9                 0.148148                  0.43750   \n",
       "10        1.0                 0.000000                  0.00000   \n",
       "\n",
       "    Random Forest FPR  Random Forest TPR  Decision Tree FPR  \\\n",
       "0            0.962963            1.00000           0.629630   \n",
       "1            0.703704            1.00000           0.629630   \n",
       "2            0.629630            1.00000           0.444444   \n",
       "3            0.592593            1.00000           0.407407   \n",
       "4            0.518519            1.00000           0.407407   \n",
       "5            0.444444            0.90625           0.333333   \n",
       "6            0.370370            0.81250           0.333333   \n",
       "7            0.259259            0.68750           0.333333   \n",
       "8            0.222222            0.53125           0.259259   \n",
       "9            0.074074            0.34375           0.259259   \n",
       "10           0.000000            0.00000           0.000000   \n",
       "\n",
       "    Decision Tree TPR   MLP FPR  MLP TPR  \n",
       "0             0.90625  1.000000   1.0000  \n",
       "1             0.90625  0.703704   1.0000  \n",
       "2             0.84375  0.666667   1.0000  \n",
       "3             0.84375  0.481481   1.0000  \n",
       "4             0.84375  0.407407   1.0000  \n",
       "5             0.68750  0.407407   0.9375  \n",
       "6             0.56250  0.370370   0.8750  \n",
       "7             0.56250  0.296296   0.7500  \n",
       "8             0.46875  0.222222   0.6875  \n",
       "9             0.46875  0.148148   0.3750  \n",
       "10            0.00000  0.000000   0.0000  "
      ]
     },
     "execution_count": 100,
     "metadata": {},
     "output_type": "execute_result"
    }
   ],
   "source": [
    "def find_rates_for_thresholds(y_pred, y_test, thresholds):\n",
    "    fpr_list = []\n",
    "    tpr_list = []\n",
    "    for threshold in thresholds:\n",
    "        y_pred_binary = (y_pred > threshold).astype(int)\n",
    "        tn, fp, fn, tp = confusion_matrix(y_test, y_pred_binary).ravel()\n",
    "        fpr = fp / (fp + tn)\n",
    "        tpr = tp / (tp + fn)\n",
    "        fpr_list.append(fpr)\n",
    "        tpr_list.append(tpr)\n",
    "    return fpr_list, tpr_list\n",
    "\n",
    "thresholds = np.arange(0, 1.1, 0.1)\n",
    "\n",
    "fpr_logreg, tpr_logreg = find_rates_for_thresholds(y_pred_logreg, y_test, thresholds)\n",
    "fpr_rf, tpr_rf = find_rates_for_thresholds(y_pred_rf, y_test, thresholds)\n",
    "fpr_dt, tpr_dt = find_rates_for_thresholds(y_pred_dt, y_test, thresholds)\n",
    "fpr_mlp, tpr_mlp = find_rates_for_thresholds(y_pred_mlp,y_test, thresholds)\n",
    "\n",
    "'''TODO: Silahkan buat Summary DataFrame'''\n",
    "summary_df = pd.DataFrame({\n",
    "    'Threshold' : thresholds,\n",
    "    'Logistic Regression FPR' : fpr_logreg,\n",
    "    'Logistic Regression TPR' : tpr_logreg,\n",
    "    'Random Forest FPR' : fpr_rf,\n",
    "    'Random Forest TPR' : tpr_rf,\n",
    "    'Decision Tree FPR' : fpr_dt,\n",
    "    'Decision Tree TPR' : tpr_dt,\n",
    "    'MLP FPR' : fpr_mlp,\n",
    "    'MLP TPR' : tpr_mlp\n",
    "\n",
    "})\n",
    "\n",
    "summary_df"
   ]
  },
  {
   "cell_type": "code",
   "execution_count": 101,
   "id": "2a068adc",
   "metadata": {},
   "outputs": [
    {
     "name": "stdout",
     "output_type": "stream",
     "text": [
      "Best threshold for Logistic Regression: 0.43522945324612106\n",
      "Best threshold for Random Forest: 0.64\n",
      "Best threshold for Decision Tree: 0.5\n",
      "Best threshold for MLP: 0.42586845078917285\n"
     ]
    }
   ],
   "source": [
    "def find_best_threshold(y_test, y_pred):\n",
    "    # based on Youden's Index\n",
    "    fpr, tpr, thresholds = roc_curve(y_test, y_pred)\n",
    "\n",
    "    #calculate Youden's Index\n",
    "    youden_index = tpr - fpr\n",
    "\n",
    "    #ambil indeks tresholds terbaik\n",
    "    optimal_idx = np.argmax(youden_index)\n",
    "    return thresholds[optimal_idx]\n",
    "\n",
    "best_threshold_logreg = find_best_threshold(y_test, y_pred_logreg)\n",
    "best_threshold_rf = find_best_threshold(y_test, y_pred_rf)\n",
    "best_threshold_dt = find_best_threshold(y_test, y_pred_dt)\n",
    "best_threshold_mlp = find_best_threshold(y_test, y_pred_mlp)\n",
    "\n",
    "print(f\"Best threshold for Logistic Regression: {best_threshold_logreg}\")\n",
    "print(f\"Best threshold for Random Forest: {best_threshold_rf}\")\n",
    "print(f\"Best threshold for Decision Tree: {best_threshold_dt}\")\n",
    "print(f\"Best threshold for MLP: {best_threshold_mlp}\")"
   ]
  },
  {
   "cell_type": "markdown",
   "id": "a76898b9",
   "metadata": {},
   "source": [
    "**Ingat**\n",
    "\n",
    "1. Jika kita menginginkan model yang memiliki sensitivitas yang tinggi, yaitu kemampuan untuk mendeteksi sebanyak mungkin kasus positif (True Positive), maka lebih baik menggunakan treshold yang lebih rendah. Namun, ini mungkin juga akan menyebabkan peningkatan False Positive Rate (kasus negatif yang salah diprediksi positif).\n",
    "2. Sebaliknya, jika kita ingin mengurangi kesalahan dalam memprediksi kasus negatif sebagai positif (False Positive), maka kita akan memilih treshold yang lebih tinggi. Namun, ini dapat mengurangi sensitivitas model (menyebabkan lebih banyak True Negative yang salah diprediksi negatif).\n",
    "\n",
    "Jadi dapat disimpulkan, bahwa model yang peformanya lebih bagus ialah model Random Forest dengan ditandai dengan model Random Forest yang memiliki nilai akurasi pada classification report tertinggi, yaitu sebesar 82% dan Model Random Forest memiliki score AUC-ROC Terbesar dibandingkan 3 model lainnya, yaitu sebesar 90%, namun model ini memiliki treshold yang tinggi dimana akan meningkatkan FPR (Kasus negatif yang salah diprediksi positif)."
   ]
  },
  {
   "cell_type": "markdown",
   "id": "705716d1",
   "metadata": {},
   "source": [
    "**Cross Validation**"
   ]
  },
  {
   "cell_type": "code",
   "execution_count": 95,
   "id": "e07baa94",
   "metadata": {},
   "outputs": [
    {
     "name": "stdout",
     "output_type": "stream",
     "text": [
      "Cross-Validation Scores: [0.8599537  0.95192308 0.83293269 0.96754808 0.87620192]\n",
      "mean: 0.8977118945868947\n",
      "std: 0.05272693724205942\n"
     ]
    }
   ],
   "source": [
    "cv = StratifiedKFold(n_splits=5, shuffle=True)\n",
    "model = fit_clf_lg\n",
    "cv_scores = cross_val_score(model, X, y, cv=cv, scoring='roc_auc')\n",
    "print(\"Cross-Validation Scores:\", cv_scores)\n",
    "print('mean:', cv_scores.mean())\n",
    "print('std:', cv_scores.std())"
   ]
  },
  {
   "cell_type": "code",
   "execution_count": 96,
   "id": "d96ba3e6",
   "metadata": {},
   "outputs": [
    {
     "name": "stdout",
     "output_type": "stream",
     "text": [
      "Cross-Validation Scores: [0.83101852 0.75661058 0.84314904 0.86538462 0.80228365]\n",
      "mean: 0.8196892806267806\n",
      "std: 0.037546382494375634\n"
     ]
    }
   ],
   "source": [
    "cv = StratifiedKFold(n_splits=5, shuffle=True)\n",
    "model = fit_clf_dt\n",
    "cv_scores = cross_val_score(model, X, y, cv=cv, scoring='roc_auc')\n",
    "print(\"Cross-Validation Scores:\", cv_scores)\n",
    "print('mean:', cv_scores.mean())\n",
    "print('std:', cv_scores.std())"
   ]
  },
  {
   "cell_type": "code",
   "execution_count": 97,
   "id": "7b706219",
   "metadata": {},
   "outputs": [
    {
     "name": "stdout",
     "output_type": "stream",
     "text": [
      "Cross-Validation Scores: [0.87673611 0.8671875  0.94170673 0.90084135 0.87740385]\n",
      "mean: 0.8927751068376069\n",
      "std: 0.02686119394178651\n"
     ]
    }
   ],
   "source": [
    "cv = StratifiedKFold(n_splits=5, shuffle=True)\n",
    "model = fit_clf_rf\n",
    "cv_scores = cross_val_score(model, X, y, cv=cv, scoring='roc_auc')\n",
    "print(\"Cross-Validation Scores:\", cv_scores)\n",
    "print('mean:', cv_scores.mean())\n",
    "print('std:', cv_scores.std())"
   ]
  },
  {
   "cell_type": "code",
   "execution_count": 104,
   "id": "681e22d8",
   "metadata": {},
   "outputs": [
    {
     "name": "stdout",
     "output_type": "stream",
     "text": [
      "Cross-Validation Scores: [0.875      0.9375     0.89903846 0.89182692 0.90985577]\n",
      "mean: 0.9026442307692308\n",
      "std: 0.020790142606191962\n"
     ]
    }
   ],
   "source": [
    "cv = StratifiedKFold(n_splits=5, shuffle=True)\n",
    "model = fit_clf_mlp\n",
    "cv_scores = cross_val_score(model, X, y, cv=cv, scoring='roc_auc')\n",
    "print(\"Cross-Validation Scores:\", cv_scores)\n",
    "print('mean:', cv_scores.mean())\n",
    "print('std:', cv_scores.std())"
   ]
  },
  {
   "cell_type": "markdown",
   "id": "3c94253e",
   "metadata": {},
   "source": [
    "# Export Model"
   ]
  },
  {
   "cell_type": "code",
   "execution_count": 105,
   "id": "11ad1827",
   "metadata": {},
   "outputs": [],
   "source": [
    "# Menyimpan model terbaik dengan pickle\n",
    "pklname = 'model.pkl'\n",
    "model = fit_clf_mlp\n",
    "with open(pklname, 'wb') as file:\n",
    "    pickle.dump(model,file)"
   ]
  },
  {
   "cell_type": "markdown",
   "id": "6b8b74b8",
   "metadata": {},
   "source": [
    "# Import Model"
   ]
  },
  {
   "cell_type": "code",
   "execution_count": 67,
   "id": "e2cf12a5",
   "metadata": {},
   "outputs": [],
   "source": [
    "with open(\"model.pkl\", \"rb\") as file:\n",
    "    model = pickle.load(file)"
   ]
  },
  {
   "cell_type": "code",
   "execution_count": 71,
   "id": "b51d3a8b",
   "metadata": {},
   "outputs": [],
   "source": [
    "model = model.best_estimator_"
   ]
  },
  {
   "cell_type": "code",
   "execution_count": 72,
   "id": "992e18c1",
   "metadata": {},
   "outputs": [
    {
     "data": {
      "text/plain": [
       "MLPClassifier()"
      ]
     },
     "execution_count": 72,
     "metadata": {},
     "output_type": "execute_result"
    }
   ],
   "source": [
    "model"
   ]
  },
  {
   "cell_type": "code",
   "execution_count": null,
   "id": "f22d5ed3",
   "metadata": {},
   "outputs": [],
   "source": [
    "model = MLPClassifier()\n",
    "hyperparams = {'activation': 'relu', \n",
    "               'hidden_layer_sizes': (100,), \n",
    "               'solver': 'adam'}"
   ]
  },
  {
   "cell_type": "markdown",
   "id": "02c44953",
   "metadata": {},
   "source": [
    "# Data Prediction"
   ]
  },
  {
   "cell_type": "code",
   "execution_count": 108,
   "id": "202ac4c0",
   "metadata": {},
   "outputs": [],
   "source": [
    "def model_summary(model, data_test, data_pred, label):\n",
    "    print(classification_report(data_test, data_pred, target_names=label, digits=6))\n",
    "    \n",
    "    cMatrix = ConfusionMatrixDisplay(confusion_matrix=confusion_matrix(data_test, data_pred),\n",
    "                                 display_labels=label)\n",
    "    cMatrix.plot(cmap='Blues')\n",
    "    plt.plot()\n",
    "    plt.xticks(rotation=90)\n",
    "    plt.title('Confusion Matrix')"
   ]
  },
  {
   "cell_type": "code",
   "execution_count": 109,
   "id": "81359e52",
   "metadata": {},
   "outputs": [
    {
     "name": "stdout",
     "output_type": "stream",
     "text": [
      "              precision    recall  f1-score   support\n",
      "\n",
      "     Disease   0.700000  0.875000  0.777778        32\n",
      "  No disease   0.789474  0.555556  0.652174        27\n",
      "\n",
      "    accuracy                       0.728814        59\n",
      "   macro avg   0.744737  0.715278  0.714976        59\n",
      "weighted avg   0.740946  0.728814  0.720298        59\n",
      "\n"
     ]
    },
    {
     "data": {
      "image/png": "[encoded data removed]",
      "text/plain": [
       "<Figure size 432x288 with 2 Axes>"
      ]
     },
     "metadata": {
      "needs_background": "light"
     },
     "output_type": "display_data"
    }
   ],
   "source": [
    "y_pred = model.predict(X_test)\n",
    "model_summary(model, y_test, y_pred, encoder[y.name].classes_)"
   ]
  }
 ],
 "metadata": {
  "colab": {
   "provenance": []
  },
  "kernelspec": {
   "display_name": "Python 3 (ipykernel)",
   "language": "python",
   "name": "python3"
  },
  "language_info": {
   "codemirror_mode": {
    "name": "ipython",
    "version": 3
   },
   "file_extension": ".py",
   "mimetype": "text/x-python",
   "name": "python",
   "nbconvert_exporter": "python",
   "pygments_lexer": "ipython3",
   "version": "3.9.12"
  }
 },
 "nbformat": 4,
 "nbformat_minor": 5
}
